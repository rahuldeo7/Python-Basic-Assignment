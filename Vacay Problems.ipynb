{
 "cells": [
  {
   "cell_type": "code",
   "execution_count": null,
   "id": "9da09bfd",
   "metadata": {},
   "outputs": [],
   "source": [
    "def length(word):\n",
    "    \"\"\" \n",
    "    The function returns the string length\n",
    "    \"\"\"\n",
    "    count=0\n",
    "    for i in word:\n",
    "        count+=1\n",
    "    return count\n",
    "\n",
    "word = input()\n",
    "length(word)"
   ]
  },
  {
   "cell_type": "code",
   "execution_count": null,
   "id": "ac78c63e",
   "metadata": {},
   "outputs": [],
   "source": [
    "def index(lis):\n",
    "    \"\"\" \n",
    "    The function prints index of premitive element passed into the list\n",
    "    \"\"\"\n",
    "    count = 0\n",
    "    for i in lis:\n",
    "        print('{} is the index of {}'.format(count,i))\n",
    "        count+=1\n",
    "    return 0\n",
    "\n",
    "lis = input()\n",
    "lis = list(lis.split(' '))\n",
    "index(lis)"
   ]
  },
  {
   "cell_type": "code",
   "execution_count": null,
   "id": "d1e9b991",
   "metadata": {},
   "outputs": [],
   "source": [
    "string = \"A - 13, B - 14, C - 15\"\n",
    "  \n",
    "# Converting string to dictionary\n",
    "Dict = dict((x.strip(), y.strip())\n",
    "             for x, y in (element.split('-') \n",
    "             for element in string.split(', ')))\n",
    "  \n",
    "print(Dict)\n",
    "print(Dict['A'])\n",
    "print(Dict['C'])"
   ]
  },
  {
   "cell_type": "code",
   "execution_count": null,
   "id": "31247cb1",
   "metadata": {},
   "outputs": [],
   "source": [
    "def append(dic):\n",
    "    \"\"\"\n",
    "    The function appends any kind of data type values into a list\n",
    "    \"\"\"\n",
    "    lis = []\n",
    "    for i in dic.keys():\n",
    "        if type(dic[i]) == dict:\n",
    "            for j in dic[i].keys():\n",
    "                lis.append(dic[i][j])\n",
    "        elif type(dic[i]) == list or type(dic[i]) == tuple or type(dic[i]) == set:\n",
    "            for i in dic[i]:\n",
    "                lis.append(i)\n",
    "        else:\n",
    "            lis.append(dic[i])\n",
    "    return lis  \n",
    "\n",
    "dic = eval(input())\n",
    "append(dic)"
   ]
  },
  {
   "cell_type": "code",
   "execution_count": null,
   "id": "35366da1",
   "metadata": {},
   "outputs": [],
   "source": [
    "def even(num):\n",
    "    '''\n",
    "    print even values\n",
    "    '''\n",
    "    if num%2 == 0:\n",
    "        return num\n",
    "\n",
    "def allowed(lis):\n",
    "    \"\"\"\n",
    "    print numbers that are allowed\n",
    "    \"\"\"\n",
    "    for i in lis:\n",
    "        if odd_even(i):\n",
    "            print(\"Allowed\")\n",
    "        else:\n",
    "            print(\"Not Allowed\")\n",
    "\n",
    "lis = eval(input())\n",
    "allowed(lis)"
   ]
  },
  {
   "cell_type": "code",
   "execution_count": null,
   "id": "51a4c4af",
   "metadata": {},
   "outputs": [],
   "source": [
    "def concat(lis,lis1):\n",
    "    \"\"\"\n",
    "    The function appends the incoming list with existing list\n",
    "    format : concat(\"input list\", \"source list\")\n",
    "    \"\"\"\n",
    "    return lis1.extend(lis)\n",
    "\n",
    "lis = []\n",
    "inp = int(input('Count of list to be given as input :'))\n",
    "for i in range(inp):\n",
    "    temp = eval(input('Enter the list {} : '.format(i+1)))\n",
    "    concat(temp, lis)\n",
    "print(lis)  "
   ]
  },
  {
   "cell_type": "code",
   "execution_count": null,
   "id": "e35f3db4",
   "metadata": {},
   "outputs": [],
   "source": [
    "def index(lis):\n",
    "    \"\"\"\n",
    "    The function prints index of elements in the list, even if the elements are repetetive\n",
    "    \"\"\"\n",
    "    for i in range(len(lis)):\n",
    "        print('The index of {} is {}'.format(lis[i], i+1))\n",
    "    return 0\n",
    "\n",
    "inp = eval(input('Enter the list:'))\n",
    "index(inp)"
   ]
  },
  {
   "cell_type": "code",
   "execution_count": null,
   "id": "7c1eecc0",
   "metadata": {},
   "outputs": [],
   "source": [
    "import os\n",
    "\n",
    "def os_func(path):\n",
    "    \"\"\"\n",
    "    The function returns the files in a given directory\n",
    "    \"\"\"\n",
    "    return os.listdir(path)\n",
    "\n",
    "inp = input('Enter the path for which the list of files are required : ')\n",
    "os_func(inp)"
   ]
  },
  {
   "cell_type": "code",
   "execution_count": null,
   "id": "1072d777",
   "metadata": {},
   "outputs": [],
   "source": [
    "import os\n",
    "print(os.uname())"
   ]
  },
  {
   "cell_type": "code",
   "execution_count": null,
   "id": "46393ea9",
   "metadata": {},
   "outputs": [],
   "source": [
    "from datetime import datetime\n",
    "print('The date and time is',datetime.now())"
   ]
  },
  {
   "cell_type": "code",
   "execution_count": null,
   "id": "0b273d90",
   "metadata": {},
   "outputs": [],
   "source": [
    "from PIL import Image\n",
    "im = Image.open(\"/home/rahul/Downloads/index.jpeg\")\n",
    "im.show()"
   ]
  },
  {
   "cell_type": "code",
   "execution_count": 3,
   "id": "61e6efd3",
   "metadata": {},
   "outputs": [],
   "source": [
    "import cv2\n",
    "import numpy as np\n",
    "\n",
    "cap = cv2.VideoCapture(\"media/rahul/work/Sign Language Recognition and interpretation using machine vision/rahul 1080.mp4\")\n",
    "while(cap.isOpened()):\n",
    "        ret, frame = cap.read()\n",
    "        if ret == True:\n",
    "                cv2.imshow('Frame',frame)\n",
    "                if cv2.waitKey(25) & 0xFF == ord('q'):\n",
    "                    break\n",
    "        else:\n",
    "            break\n",
    "cap.release()"
   ]
  },
  {
   "cell_type": "code",
   "execution_count": null,
   "id": "2c62dc4a",
   "metadata": {},
   "outputs": [],
   "source": []
  }
 ],
 "metadata": {
  "kernelspec": {
   "display_name": "Python 3 (ipykernel)",
   "language": "python",
   "name": "python3"
  },
  "language_info": {
   "codemirror_mode": {
    "name": "ipython",
    "version": 3
   },
   "file_extension": ".py",
   "mimetype": "text/x-python",
   "name": "python",
   "nbconvert_exporter": "python",
   "pygments_lexer": "ipython3",
   "version": "3.9.7"
  }
 },
 "nbformat": 4,
 "nbformat_minor": 5
}
