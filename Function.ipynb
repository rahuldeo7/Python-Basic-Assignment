{
 "cells": [
  {
   "cell_type": "code",
   "execution_count": 12,
   "id": "72813bc4",
   "metadata": {},
   "outputs": [
    {
     "name": "stdout",
     "output_type": "stream",
     "text": [
      "Hello\n",
      "<class 'NoneType'>\n",
      "Hello\n",
      "None\n"
     ]
    }
   ],
   "source": [
    "def test():\n",
    "    print(\"Hello\")\n",
    "\n",
    "print(type(test())) # --> test() returns output Hello , type of test() returns NoneType\n",
    "print(test()) # --> test() returns output Hello , string of type is None\n",
    "\n",
    "# Default tyep of function is NoneType"
   ]
  },
  {
   "cell_type": "code",
   "execution_count": 15,
   "id": "737973f2",
   "metadata": {},
   "outputs": [
    {
     "data": {
      "text/plain": [
       "str"
      ]
     },
     "execution_count": 15,
     "metadata": {},
     "output_type": "execute_result"
    }
   ],
   "source": [
    "def test1():\n",
    "    return \"Hello\"\n",
    "type(test1()) # --> return defines return type of the function"
   ]
  },
  {
   "cell_type": "code",
   "execution_count": 5,
   "id": "04b43646",
   "metadata": {},
   "outputs": [
    {
     "name": "stdout",
     "output_type": "stream",
     "text": [
      "(1, (2+3j), 'deo', [1, 2, 3])   <class 'tuple'>\n"
     ]
    }
   ],
   "source": [
    "#trying to execute diferent data types in the retrun statement\n",
    "def test2():\n",
    "    return 1, 2+3j, 'deo', [1,2,3]\n",
    "\n",
    "print(test2(),' ',type(test2())) #--> combination of data types turns the function return to TUPLE"
   ]
  },
  {
   "cell_type": "code",
   "execution_count": 8,
   "id": "28ca38ab",
   "metadata": {},
   "outputs": [
    {
     "name": "stdout",
     "output_type": "stream",
     "text": [
      "1 (2+3j) deo [1, 2, 3]\n"
     ]
    }
   ],
   "source": [
    "w, x, y,z  = test2()\n",
    "print(w, x, y, z)"
   ]
  },
  {
   "cell_type": "code",
   "execution_count": 2,
   "id": "e39916a0",
   "metadata": {},
   "outputs": [
    {
     "name": "stdout",
     "output_type": "stream",
     "text": [
      "[1, 2, 3, 4, 5]   <class 'list'>\n"
     ]
    }
   ],
   "source": [
    "def test3(a):\n",
    "    if type(a)==list:\n",
    "        n =[]\n",
    "        for i in a:\n",
    "            if type(i) == int:\n",
    "                n.append(i)\n",
    "    return n\n",
    "\n",
    "print(test3([1,2,3,4,5,'rahul','deo']),' ',type(test3([1,2,3,4,5,'rahul','deo'])))"
   ]
  },
  {
   "cell_type": "code",
   "execution_count": 35,
   "id": "f9bd946c",
   "metadata": {},
   "outputs": [
    {
     "name": "stdout",
     "output_type": "stream",
     "text": [
      "<class 'list'>\n",
      "[1, 2, 3, 4, 5, 6, 7, 8, 9, 10, 6, 7, 8, 9, 10]\n"
     ]
    }
   ],
   "source": [
    "def test4(a,b):\n",
    "    if type(a) == list and type(b) == list:\n",
    "        a.extend(b)\n",
    "    return a\n",
    "\n",
    "lt1 = [1,2,3,4,5]\n",
    "lt2 = [6,7,8,9,10]\n",
    "print(type(test4(lt1,lt2)))\n",
    "print(test4(lt1,lt2))\n",
    "        "
   ]
  },
  {
   "cell_type": "code",
   "execution_count": 42,
   "id": "dc79c619",
   "metadata": {},
   "outputs": [
    {
     "name": "stdout",
     "output_type": "stream",
     "text": [
      "5\n",
      "\n",
      "*\n",
      "**\n",
      "***\n",
      "****\n",
      "*****\n"
     ]
    }
   ],
   "source": [
    "def pattern(cnt):\n",
    "    for i in range(cnt+1):\n",
    "        for j in range(i):\n",
    "            print('*',end='')\n",
    "        print('\\r')\n",
    "\n",
    "a = int(input())\n",
    "pattern(a)"
   ]
  },
  {
   "cell_type": "code",
   "execution_count": 43,
   "id": "6921c1a4",
   "metadata": {},
   "outputs": [
    {
     "name": "stdout",
     "output_type": "stream",
     "text": [
      "5\n",
      "\n",
      "*\n",
      "**\n",
      "***\n",
      "****\n",
      "*****\n"
     ]
    }
   ],
   "source": [
    "#creating a doc string, description of the function\n",
    "def pattern(cnt):\n",
    "    \"\"\" A function to create euclid's triangle for a given row\"\"\"\n",
    "    for i in range(cnt+1):\n",
    "        for j in range(i):\n",
    "            print('*',end='')\n",
    "        print('\\r')\n",
    "\n",
    "a = int(input())\n",
    "pattern(a)"
   ]
  },
  {
   "cell_type": "code",
   "execution_count": 44,
   "id": "817726c2",
   "metadata": {},
   "outputs": [
    {
     "name": "stdout",
     "output_type": "stream",
     "text": [
      "Help on function pattern in module __main__:\n",
      "\n",
      "pattern(cnt)\n",
      "    A function to create euclid's triangle for a given row\n",
      "\n"
     ]
    }
   ],
   "source": [
    "help(pattern)"
   ]
  },
  {
   "cell_type": "code",
   "execution_count": 45,
   "id": "cd619d97",
   "metadata": {},
   "outputs": [
    {
     "name": "stdout",
     "output_type": "stream",
     "text": [
      "\r\n",
      "*\r\n",
      "**\r\n",
      "***\r\n",
      "****\r\n",
      "*****\r\n",
      "Help on NoneType object:\n",
      "\n",
      "class NoneType(object)\n",
      " |  Methods defined here:\n",
      " |  \n",
      " |  __bool__(self, /)\n",
      " |      self != 0\n",
      " |  \n",
      " |  __repr__(self, /)\n",
      " |      Return repr(self).\n",
      " |  \n",
      " |  ----------------------------------------------------------------------\n",
      " |  Static methods defined here:\n",
      " |  \n",
      " |  __new__(*args, **kwargs) from builtins.type\n",
      " |      Create and return a new object.  See help(type) for accurate signature.\n",
      "\n"
     ]
    }
   ],
   "source": [
    "help(pattern(5))"
   ]
  },
  {
   "cell_type": "code",
   "execution_count": 15,
   "id": "54ec538b",
   "metadata": {},
   "outputs": [
    {
     "name": "stdout",
     "output_type": "stream",
     "text": [
      "rahul\n"
     ]
    },
    {
     "data": {
      "text/plain": [
       "5"
      ]
     },
     "execution_count": 15,
     "metadata": {},
     "output_type": "execute_result"
    }
   ],
   "source": [
    "def length(string):\n",
    "    count = 0\n",
    "    for i in string:\n",
    "        count+=1;\n",
    "    return count\n",
    "\n",
    "string = input()\n",
    "length(string)"
   ]
  },
  {
   "cell_type": "code",
   "execution_count": 48,
   "id": "37e421cb",
   "metadata": {},
   "outputs": [
    {
     "name": "stdout",
     "output_type": "stream",
     "text": [
      "123456789\n",
      "0 is the index of 1\n",
      "1 is the index of 2\n",
      "2 is the index of 3\n",
      "3 is the index of 4\n",
      "4 is the index of 5\n",
      "5 is the index of 6\n",
      "6 is the index of 7\n",
      "7 is the index of 8\n",
      "8 is the index of 9\n"
     ]
    },
    {
     "data": {
      "text/plain": [
       "0"
      ]
     },
     "execution_count": 48,
     "metadata": {},
     "output_type": "execute_result"
    }
   ],
   "source": [
    "def listing(lst):\n",
    "    cnt = 0\n",
    "    for i in lst:\n",
    "        print('{} is the index of {}'.format(cnt,i))\n",
    "        cnt+=1\n",
    "    return 0\n",
    "\n",
    "a = list(input())\n",
    "listing(a)"
   ]
  },
  {
   "cell_type": "code",
   "execution_count": 14,
   "id": "4ec078f2",
   "metadata": {},
   "outputs": [
    {
     "data": {
      "text/plain": [
       "['rahul',\n",
       " 'deo',\n",
       " 'than',\n",
       " 'jaa',\n",
       " 'poo',\n",
       " 'ram',\n",
       " 'gopal',\n",
       " 'varma',\n",
       " 'sharma',\n",
       " 'fun',\n",
       " (1+2j),\n",
       " 'deo',\n",
       " 11,\n",
       " 22,\n",
       " 33,\n",
       " 44,\n",
       " 55]"
      ]
     },
     "execution_count": 14,
     "metadata": {},
     "output_type": "execute_result"
    }
   ],
   "source": [
    "def values(a):\n",
    "    lst = []\n",
    "    if type(a) == dict:\n",
    "        for i in a.keys():\n",
    "            if type(a[i]) == dict:\n",
    "                for j in a[i].keys():\n",
    "                    lst.append(a[i][j])\n",
    "            elif type(a[i]) == str or type(a[i]) == complex or type(a[i]) == int:\n",
    "                lst.append(a[i])\n",
    "            elif type(a[i]) == list or type(a[i]) == tuple:\n",
    "                for k in a[i]:\n",
    "                    lst.append(k)\n",
    "    return lst\n",
    "\n",
    "a = {'value1':{1:'rahul',2:'deo',3:'than',4:'jaa',5:'poo'},\n",
    "     'value2':{6:'ram',7:'gopal',8:'varma',9:'sharma',0:'fun'},\n",
    "     'value3':1+2j, 'value4':'deo', 'value5':[11,22,33,44,55]}\n",
    "values(a)"
   ]
  },
  {
   "cell_type": "code",
   "execution_count": 35,
   "id": "d1e8b567",
   "metadata": {},
   "outputs": [
    {
     "name": "stdout",
     "output_type": "stream",
     "text": [
      "oed\n"
     ]
    },
    {
     "data": {
      "text/plain": [
       "55"
      ]
     },
     "execution_count": 35,
     "metadata": {},
     "output_type": "execute_result"
    }
   ],
   "source": [
    "def string_filter(a):\n",
    "    vowels = 'AaEeIiOoUu'\n",
    "    if a[0] in vowels or ' ' in a:\n",
    "        return 'Enter a single word or avoid words starting with vowels'\n",
    "    else:\n",
    "        return a\n",
    "    \n",
    "def lent(): \n",
    "    count=0\n",
    "    for i in string_filter(a):\n",
    "        count+=1\n",
    "    return count\n",
    "\n",
    "a = input()\n",
    "lent()"
   ]
  },
  {
   "cell_type": "code",
   "execution_count": null,
   "id": "f1a455c5",
   "metadata": {},
   "outputs": [],
   "source": []
  }
 ],
 "metadata": {
  "kernelspec": {
   "display_name": "Python 3 (ipykernel)",
   "language": "python",
   "name": "python3"
  },
  "language_info": {
   "codemirror_mode": {
    "name": "ipython",
    "version": 3
   },
   "file_extension": ".py",
   "mimetype": "text/x-python",
   "name": "python",
   "nbconvert_exporter": "python",
   "pygments_lexer": "ipython3",
   "version": "3.9.7"
  }
 },
 "nbformat": 4,
 "nbformat_minor": 5
}
