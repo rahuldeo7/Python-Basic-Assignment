{
 "cells": [
  {
   "cell_type": "code",
   "execution_count": 1,
   "id": "36d93c81",
   "metadata": {},
   "outputs": [],
   "source": [
    "o = open('deo.txt','w')\n",
    "o.write('The code is working fine')\n",
    "o.close()"
   ]
  },
  {
   "cell_type": "code",
   "execution_count": 2,
   "id": "e2150a21",
   "metadata": {},
   "outputs": [
    {
     "data": {
      "text/plain": [
       "'/home/rahul/Python Run'"
      ]
     },
     "execution_count": 2,
     "metadata": {},
     "output_type": "execute_result"
    }
   ],
   "source": [
    "pwd"
   ]
  },
  {
   "cell_type": "code",
   "execution_count": 3,
   "id": "f9c87f06",
   "metadata": {},
   "outputs": [
    {
     "name": "stdout",
     "output_type": "stream",
     "text": [
      "Writing test.txt\n"
     ]
    }
   ],
   "source": [
    "%%writefile test.txt\n",
    "The code is working fine"
   ]
  },
  {
   "cell_type": "raw",
   "id": "70da7c8c",
   "metadata": {},
   "source": [
    "The above two snippets are two types by which, we can create and write text to a file "
   ]
  },
  {
   "cell_type": "code",
   "execution_count": 5,
   "id": "db955e04",
   "metadata": {},
   "outputs": [
    {
     "data": {
      "text/plain": [
       "'The code is working fine'"
      ]
     },
     "execution_count": 5,
     "metadata": {},
     "output_type": "execute_result"
    }
   ],
   "source": [
    "o = open('deo.txt')\n",
    "o.read()"
   ]
  },
  {
   "cell_type": "code",
   "execution_count": 6,
   "id": "be95144d",
   "metadata": {},
   "outputs": [
    {
     "data": {
      "text/plain": [
       "''"
      ]
     },
     "execution_count": 6,
     "metadata": {},
     "output_type": "execute_result"
    }
   ],
   "source": [
    "o.read()\n",
    "#'The file handling is carried out in a cursor fashion'\n",
    "#So the read function continues from the place the cursor is left.\n",
    "# In its second attempt to read the file, the cursor in a position, where it has nothing to read further, \n",
    "# it is in EOF"
   ]
  },
  {
   "cell_type": "code",
   "execution_count": 12,
   "id": "9a22bd56",
   "metadata": {},
   "outputs": [
    {
     "data": {
      "text/plain": [
       "10"
      ]
     },
     "execution_count": 12,
     "metadata": {},
     "output_type": "execute_result"
    }
   ],
   "source": [
    "o.seek(10)\n",
    "#reposition the cursor to a position with index\n",
    "o.tell()\n",
    "#tells the position of cursor\n",
    "# o.read()"
   ]
  },
  {
   "cell_type": "code",
   "execution_count": 164,
   "id": "4a6321a2",
   "metadata": {},
   "outputs": [
    {
     "data": {
      "text/plain": [
       "1260"
      ]
     },
     "execution_count": 164,
     "metadata": {},
     "output_type": "execute_result"
    }
   ],
   "source": [
    "f = open('pichai.txt','w')\n",
    "f.write(\"\"\"\n",
    "Pichai Sundararajan , better known as Sundar Pichai, is an Indian-born American business executive.He is the chief executive officer (CEO) of Alphabet Inc. and its subsidiary Google.\n",
    "\n",
    "Born in Madras, India, Pichai earned his degree from IIT Kharagpur in metallurgical engineering. Moving to the United States, he attained an M.S. from Stanford University in materials science and engineering and further attained an MBA from the Wharton School of the University of Pennsylvania, where he was named a Siebel Scholar and a Palmer Scholar, respectively.[7]\n",
    "\n",
    "Pichai began his career as a materials engineer. Following a short stint at the management consulting firm McKinsey & Co., Pichai joined Google in 2004, where he led the product management and innovation efforts for a suite of Google's client software products, including Google Chrome and Chrome OS, as well as being largely responsible for Google Drive. In addition, he went on to oversee the development of other applications such as Gmail and Google Maps. In 2010, Pichai also announced the open-sourcing of the new video codec VP8 by Google and introduced the new video format, WebM. The Chromebook was released in 2012. In 2013, Pichai added Android to the list of Google products that he oversaw. \"\"\")"
   ]
  },
  {
   "cell_type": "code",
   "execution_count": 165,
   "id": "49a17ff1",
   "metadata": {},
   "outputs": [
    {
     "name": "stdout",
     "output_type": "stream",
     "text": [
      "\n",
      "Pichai Sundararajan , better known as Sundar Pichai, is an Indian-born American business executive.He is the chief executive officer (CEO) of Alphabet Inc. and its subsidiary Google.\n",
      "\n",
      "Born in Madras, India, Pichai earned his degree from IIT Kharagpur in metallurgical engineering. Moving to the United States, he attained an M.S. from Stanford University in materials science and engineering and further attained an MBA from the Wharton School of the University of Pennsylvania, where he was named a Siebel Scholar and a Palmer Scholar, respectively.[7]\n",
      "\n",
      "Pichai began his career as a materials engineer. Following a short stint at the management consulting firm McKinsey & Co., Pichai joined Google in 2004, where he led the product management and innovation efforts for a suite of Google's client software products, including Google Chrome and Chrome OS, as well as being largely responsible for Google Drive. In addition, he went on to oversee the development of other applications such as Gmail and Google Maps. In 2010, Pichai also announced the open-sourcing of the new video codec VP8 by Google and introduced the new video format, WebM. The Chromebook was released in 2012. In 2013, Pichai added Android to the list of Google products that he oversaw. "
     ]
    }
   ],
   "source": [
    "f = open('pichai.txt','r')\n",
    "for i in f:\n",
    "    print(i, end = '')\n",
    "f.close()"
   ]
  },
  {
   "cell_type": "code",
   "execution_count": 172,
   "id": "68cc66a5",
   "metadata": {},
   "outputs": [],
   "source": [
    "f = open('pichai.txt','r+')\n",
    "l = f.readlines()\n",
    "for i in l:\n",
    "    for j in i:\n",
    "        l = j.replace('Pichai','Deo')"
   ]
  },
  {
   "cell_type": "code",
   "execution_count": 169,
   "id": "b0e8d015",
   "metadata": {},
   "outputs": [
    {
     "data": {
      "text/plain": [
       "\"\\nPichai Sundararajan , better known as Sundar Pichai, is an Indian-born American business executive.He is the chief executive officer (CEO) of Alphabet Inc. and its subsidiary Google.\\n\\nBorn in Madras, India, Pichai earned his degree from IIT Kharagpur in metallurgical engineering. Moving to the United States, he attained an M.S. from Stanford University in materials science and engineering and further attained an MBA from the Wharton School of the University of Pennsylvania, where he was named a Siebel Scholar and a Palmer Scholar, respectively.[7]\\n\\nPichai began his career as a materials engineer. Following a short stint at the management consulting firm McKinsey & Co., Pichai joined Google in 2004, where he led the product management and innovation efforts for a suite of Google's client software products, including Google Chrome and Chrome OS, as well as being largely responsible for Google Drive. In addition, he went on to oversee the development of other applications such as Gmail and Google Maps. In 2010, Pichai also announced the open-sourcing of the new video codec VP8 by Google and introduced the new video format, WebM. The Chromebook was released in 2012. In 2013, Pichai added Android to the list of Google products that he oversaw. \""
      ]
     },
     "execution_count": 169,
     "metadata": {},
     "output_type": "execute_result"
    }
   ],
   "source": [
    "f.seek(0)\n",
    "f.read()"
   ]
  },
  {
   "cell_type": "code",
   "execution_count": 1,
   "id": "0ac96773",
   "metadata": {},
   "outputs": [],
   "source": [
    "a = open('bio.txt','w')\n",
    "a.write(\"\"\"Pichai Sundararajan , better known as Sundar Pichai, is an Indian-born American business executive.\n",
    "He is the chief executive officer (CEO) of Alphabet Inc.\n",
    "Pichai earned his degree from IIT Kharagpur in metallurgical engineering\n",
    "Pichai began his career as a materials engineer.\n",
    "Pichai added Android to the list of Google products that he oversaw. \n",
    "\"\"\")\n",
    "a.close()"
   ]
  },
  {
   "cell_type": "code",
   "execution_count": 2,
   "id": "f234a094",
   "metadata": {},
   "outputs": [],
   "source": [
    "a = open('bio.txt','r')\n",
    "data = a.read()\n",
    "data = data.replace('Pichai','Deo')\n",
    "b = open('bio.txt','w')\n",
    "b.write(data)\n",
    "b.close()"
   ]
  },
  {
   "cell_type": "code",
   "execution_count": 4,
   "id": "46f74b35",
   "metadata": {},
   "outputs": [
    {
     "name": "stdout",
     "output_type": "stream",
     "text": [
      "Deo Sundararajan , better known as Sundar Deo, is an Indian-born American business executive.\n",
      "He is the chief executive officer (CEO) of Alphabet Inc.\n",
      "Deo earned his degree from IIT Kharagpur in metallurgical engineering\n",
      "Deo began his career as a materials engineer.\n",
      "Deo added Android to the list of Google products that he oversaw. \n"
     ]
    }
   ],
   "source": [
    "a = open('bio.txt','r')\n",
    "for i in a:\n",
    "    print(i, end='')"
   ]
  },
  {
   "cell_type": "code",
   "execution_count": null,
   "id": "a544276d",
   "metadata": {},
   "outputs": [],
   "source": []
  }
 ],
 "metadata": {
  "kernelspec": {
   "display_name": "Python 3 (ipykernel)",
   "language": "python",
   "name": "python3"
  },
  "language_info": {
   "codemirror_mode": {
    "name": "ipython",
    "version": 3
   },
   "file_extension": ".py",
   "mimetype": "text/x-python",
   "name": "python",
   "nbconvert_exporter": "python",
   "pygments_lexer": "ipython3",
   "version": "3.9.7"
  }
 },
 "nbformat": 4,
 "nbformat_minor": 5
}
