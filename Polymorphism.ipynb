{
 "cells": [
  {
   "cell_type": "raw",
   "id": "23ef045e",
   "metadata": {},
   "source": [
    "Polymorphism\n",
    "-> when a function takes more than one form or acts in more than one form"
   ]
  },
  {
   "cell_type": "code",
   "execution_count": 3,
   "id": "02d810c7",
   "metadata": {},
   "outputs": [
    {
     "name": "stdout",
     "output_type": "stream",
     "text": [
      "THis is math\n",
      "5 -1\n"
     ]
    }
   ],
   "source": [
    "class base:\n",
    "    def disp(self):\n",
    "        print('THis is math')\n",
    "        \n",
    "    def add(self,a,b):\n",
    "        return a+b\n",
    "    \n",
    "class derived(base):\n",
    "    def add(self, a, b):\n",
    "        return a-b\n",
    "\n",
    "obj = base()\n",
    "obj1 = derived()\n",
    "obj.disp()\n",
    "print(obj.add(2,3),obj1.add(2,3))"
   ]
  },
  {
   "cell_type": "raw",
   "id": "24ab0f29",
   "metadata": {},
   "source": [
    "In the above case there are two math function but both perform two different function of addition and subtraction respectively."
   ]
  },
  {
   "cell_type": "code",
   "execution_count": null,
   "id": "c67d572f",
   "metadata": {},
   "outputs": [],
   "source": []
  }
 ],
 "metadata": {
  "kernelspec": {
   "display_name": "Python 3 (ipykernel)",
   "language": "python",
   "name": "python3"
  },
  "language_info": {
   "codemirror_mode": {
    "name": "ipython",
    "version": 3
   },
   "file_extension": ".py",
   "mimetype": "text/x-python",
   "name": "python",
   "nbconvert_exporter": "python",
   "pygments_lexer": "ipython3",
   "version": "3.9.7"
  }
 },
 "nbformat": 4,
 "nbformat_minor": 5
}
