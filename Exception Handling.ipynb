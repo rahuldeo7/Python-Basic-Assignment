{
 "cells": [
  {
   "cell_type": "code",
   "execution_count": 1,
   "id": "a7dc8bed",
   "metadata": {},
   "outputs": [
    {
     "name": "stdout",
     "output_type": "stream",
     "text": [
      "ab\n",
      "invalid literal for int() with base 10: 'ab'\n"
     ]
    }
   ],
   "source": [
    "try:\n",
    "    l = [1,2,3,3,4]\n",
    "    l.append(int(input()))\n",
    "except Exception as e:\n",
    "    print(e)"
   ]
  },
  {
   "cell_type": "raw",
   "id": "e45e8d39",
   "metadata": {},
   "source": [
    "EXCEPTION HANDLING \n",
    "\"Exception\" is a super class\n",
    "We can use any number of try catch in a code"
   ]
  },
  {
   "cell_type": "code",
   "execution_count": 3,
   "id": "8798cf43",
   "metadata": {},
   "outputs": [
    {
     "name": "stdout",
     "output_type": "stream",
     "text": [
      "6\n",
      "try code successful\n",
      "[1, 2, 3, 4, 5, 6]\n"
     ]
    }
   ],
   "source": [
    "#TRY - EXCEPT - ELSE\n",
    "try:\n",
    "    lst = [1,2,3,4,5]\n",
    "    lst.append(int(input()))\n",
    "except Exception as e:\n",
    "    print(e)\n",
    "else:\n",
    "    print('try code successful')\n",
    "    print(lst)"
   ]
  },
  {
   "cell_type": "raw",
   "id": "a88dd1fc",
   "metadata": {},
   "source": [
    "Try-Except-Else\n",
    "\n",
    "In this code snippet, the else part is executed when the try code is successfully executed."
   ]
  },
  {
   "cell_type": "code",
   "execution_count": 7,
   "id": "185dc134",
   "metadata": {},
   "outputs": [
    {
     "name": "stdout",
     "output_type": "stream",
     "text": [
      "Hello \n",
      "\n",
      "Hi\n"
     ]
    }
   ],
   "source": [
    "print(\"Hello \\n\")\n",
    "print(\"Hi\")"
   ]
  },
  {
   "cell_type": "code",
   "execution_count": 8,
   "id": "b2a01381",
   "metadata": {},
   "outputs": [
    {
     "name": "stdout",
     "output_type": "stream",
     "text": [
      "asd\n",
      "invalid literal for int() with base 10: 'asd'\n",
      "try code successful\n",
      "[1, 2, 3, 4, 5]\n"
     ]
    }
   ],
   "source": [
    "#TRY - EXCEPT - FINALLY\n",
    "try:\n",
    "    lst = [1,2,3,4,5]\n",
    "    lst.append(int(input()))\n",
    "except Exception as e:\n",
    "    print(e)\n",
    "finally:\n",
    "    print('try code successful')\n",
    "    print(lst)"
   ]
  },
  {
   "cell_type": "raw",
   "id": "e5ec2cae",
   "metadata": {},
   "source": [
    "Try-Except-FINALLY\n",
    "\n",
    "In this code snippet, the Finally part is executed irrespective of the try code being successfully or\n",
    "unsuccessful executed."
   ]
  },
  {
   "cell_type": "code",
   "execution_count": 1,
   "id": "82a7cd25",
   "metadata": {},
   "outputs": [
    {
     "name": "stdout",
     "output_type": "stream",
     "text": [
      "a\n",
      "error\n",
      "a\n",
      "error\n",
      "1\n"
     ]
    },
    {
     "data": {
      "text/plain": [
       "1"
      ]
     },
     "execution_count": 1,
     "metadata": {},
     "output_type": "execute_result"
    }
   ],
   "source": [
    "def askint():\n",
    "        try:\n",
    "            a = int(input())\n",
    "            return a\n",
    "        except:\n",
    "            print('error')\n",
    "            return askint()\n",
    "            \n",
    "askint()"
   ]
  },
  {
   "cell_type": "code",
   "execution_count": 3,
   "id": "cf00a108",
   "metadata": {},
   "outputs": [
    {
     "name": "stdout",
     "output_type": "stream",
     "text": [
      "0\n"
     ]
    },
    {
     "ename": "Exception",
     "evalue": "Please enter a value other than 0",
     "output_type": "error",
     "traceback": [
      "\u001b[0;31m---------------------------------------------------------------------------\u001b[0m",
      "\u001b[0;31mException\u001b[0m                                 Traceback (most recent call last)",
      "\u001b[0;32m/tmp/ipykernel_1427150/482176655.py\u001b[0m in \u001b[0;36m<module>\u001b[0;34m\u001b[0m\n\u001b[1;32m      5\u001b[0m     \u001b[0;32mreturn\u001b[0m \u001b[0ma\u001b[0m\u001b[0;34m\u001b[0m\u001b[0;34m\u001b[0m\u001b[0m\n\u001b[1;32m      6\u001b[0m \u001b[0muser\u001b[0m \u001b[0;34m=\u001b[0m \u001b[0mint\u001b[0m\u001b[0;34m(\u001b[0m\u001b[0minput\u001b[0m\u001b[0;34m(\u001b[0m\u001b[0;34m)\u001b[0m\u001b[0;34m)\u001b[0m\u001b[0;34m\u001b[0m\u001b[0;34m\u001b[0m\u001b[0m\n\u001b[0;32m----> 7\u001b[0;31m \u001b[0mtest\u001b[0m\u001b[0;34m(\u001b[0m\u001b[0muser\u001b[0m\u001b[0;34m)\u001b[0m\u001b[0;34m\u001b[0m\u001b[0;34m\u001b[0m\u001b[0m\n\u001b[0m\u001b[1;32m      8\u001b[0m \u001b[0;34m\u001b[0m\u001b[0m\n",
      "\u001b[0;32m/tmp/ipykernel_1427150/482176655.py\u001b[0m in \u001b[0;36mtest\u001b[0;34m(a)\u001b[0m\n\u001b[1;32m      2\u001b[0m \u001b[0;32mdef\u001b[0m \u001b[0mtest\u001b[0m\u001b[0;34m(\u001b[0m\u001b[0ma\u001b[0m\u001b[0;34m)\u001b[0m\u001b[0;34m:\u001b[0m\u001b[0;34m\u001b[0m\u001b[0;34m\u001b[0m\u001b[0m\n\u001b[1;32m      3\u001b[0m     \u001b[0;32mif\u001b[0m \u001b[0ma\u001b[0m \u001b[0;34m==\u001b[0m \u001b[0;36m0\u001b[0m\u001b[0;34m:\u001b[0m\u001b[0;34m\u001b[0m\u001b[0;34m\u001b[0m\u001b[0m\n\u001b[0;32m----> 4\u001b[0;31m         \u001b[0;32mraise\u001b[0m \u001b[0mException\u001b[0m\u001b[0;34m(\u001b[0m\u001b[0;34m\"Please enter a value other than 0\"\u001b[0m\u001b[0;34m)\u001b[0m\u001b[0;34m\u001b[0m\u001b[0;34m\u001b[0m\u001b[0m\n\u001b[0m\u001b[1;32m      5\u001b[0m     \u001b[0;32mreturn\u001b[0m \u001b[0ma\u001b[0m\u001b[0;34m\u001b[0m\u001b[0;34m\u001b[0m\u001b[0m\n\u001b[1;32m      6\u001b[0m \u001b[0muser\u001b[0m \u001b[0;34m=\u001b[0m \u001b[0mint\u001b[0m\u001b[0;34m(\u001b[0m\u001b[0minput\u001b[0m\u001b[0;34m(\u001b[0m\u001b[0;34m)\u001b[0m\u001b[0;34m)\u001b[0m\u001b[0;34m\u001b[0m\u001b[0;34m\u001b[0m\u001b[0m\n",
      "\u001b[0;31mException\u001b[0m: Please enter a value other than 0"
     ]
    }
   ],
   "source": [
    "#Raising my own exception\n",
    "def test(a):\n",
    "    if a == 0:\n",
    "        raise Exception(\"Please enter a value other than 0\")\n",
    "    return a\n",
    "\n",
    "user = int(input())\n",
    "test(user)\n",
    "    "
   ]
  },
  {
   "cell_type": "raw",
   "id": "1e6a6138",
   "metadata": {},
   "source": [
    "raise is a key word used to generate error when and where required"
   ]
  }
 ],
 "metadata": {
  "kernelspec": {
   "display_name": "Python 3 (ipykernel)",
   "language": "python",
   "name": "python3"
  },
  "language_info": {
   "codemirror_mode": {
    "name": "ipython",
    "version": 3
   },
   "file_extension": ".py",
   "mimetype": "text/x-python",
   "name": "python",
   "nbconvert_exporter": "python",
   "pygments_lexer": "ipython3",
   "version": "3.9.7"
  }
 },
 "nbformat": 4,
 "nbformat_minor": 5
}
