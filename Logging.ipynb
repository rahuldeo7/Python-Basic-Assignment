{
 "cells": [
  {
   "cell_type": "raw",
   "id": "6c8d85d3",
   "metadata": {},
   "source": [
    "##Logging\n",
    "In real-time projects, there might be a scenerio, where the actual scheduled process has not really taken place.\n",
    "Then these has to be stored in a log file.\n",
    "Any kind of miscellaneous has to be recorded in a log file."
   ]
  },
  {
   "cell_type": "code",
   "execution_count": null,
   "id": "a5ba8105",
   "metadata": {},
   "outputs": [],
   "source": [
    "import logging\n",
    "logging.basicConfig(filename = 'test.log',level=logging.INFO)"
   ]
  },
  {
   "cell_type": "raw",
   "id": "66a7e3d6",
   "metadata": {},
   "source": [
    "Different logs:\n",
    "Debug\n",
    "Info\n",
    "Warning\n",
    "Error\n",
    "Critical"
   ]
  },
  {
   "cell_type": "code",
   "execution_count": null,
   "id": "e0e741ed",
   "metadata": {},
   "outputs": [],
   "source": [
    "logging.info(\"This is my info log\")\n",
    "logging.warning(\"This is my warning log\")\n",
    "logging.error(\"This is my error log\")"
   ]
  },
  {
   "cell_type": "code",
   "execution_count": null,
   "id": "81b30018",
   "metadata": {},
   "outputs": [],
   "source": [
    "import logging\n",
    "logging.basicConfig(filename = \"test2.log\", level = logging.DEBUG , format = \"%(asctime)s %(levelname)s %(message)s\")\n",
    "logging.info(\"this is my info log\")\n",
    "logging.warning(\"this is my warning log\")\n",
    "logging.debug(\"this is my debug log\")"
   ]
  },
  {
   "cell_type": "raw",
   "id": "0c2d2fde",
   "metadata": {},
   "source": [
    "Priority list\n",
    "\n",
    "Error \n",
    "Warning\n",
    "Info \n",
    "Debug\n",
    "\n",
    "When the level is set to any of the above mentioned, the others above are only included\n"
   ]
  },
  {
   "cell_type": "code",
   "execution_count": 2,
   "id": "9abf9123",
   "metadata": {},
   "outputs": [],
   "source": [
    "import logging\n",
    "logging.basicConfig(filename = \"test3.log\", level = logging.DEBUG , format = \"%(asctime)s %(levelname)s %(message)s\")"
   ]
  },
  {
   "cell_type": "code",
   "execution_count": 12,
   "id": "44aa43e0",
   "metadata": {},
   "outputs": [],
   "source": [
    "def div(a,b):\n",
    "    try:\n",
    "        logging.info('The code began its execution with value {} and {}'.format(a,b))\n",
    "        div = a/b\n",
    "        \n",
    "    except Exception as e:\n",
    "        logging.error(\"Error Occured\")\n",
    "        logging.exception(\"Error : \"+ str(e))"
   ]
  },
  {
   "cell_type": "code",
   "execution_count": 13,
   "id": "fdd9d22e",
   "metadata": {},
   "outputs": [],
   "source": [
    "div(4,2)"
   ]
  },
  {
   "cell_type": "code",
   "execution_count": 14,
   "id": "940d0930",
   "metadata": {},
   "outputs": [],
   "source": [
    "div(4,0)"
   ]
  },
  {
   "cell_type": "code",
   "execution_count": null,
   "id": "efb52026",
   "metadata": {},
   "outputs": [],
   "source": []
  }
 ],
 "metadata": {
  "kernelspec": {
   "display_name": "Python 3 (ipykernel)",
   "language": "python",
   "name": "python3"
  },
  "language_info": {
   "codemirror_mode": {
    "name": "ipython",
    "version": 3
   },
   "file_extension": ".py",
   "mimetype": "text/x-python",
   "name": "python",
   "nbconvert_exporter": "python",
   "pygments_lexer": "ipython3",
   "version": "3.9.7"
  }
 },
 "nbformat": 4,
 "nbformat_minor": 5
}
