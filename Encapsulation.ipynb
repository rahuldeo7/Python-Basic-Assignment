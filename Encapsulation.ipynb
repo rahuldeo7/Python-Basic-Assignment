{
 "cells": [
  {
   "cell_type": "raw",
   "id": "d1e337ca",
   "metadata": {},
   "source": [
    "Encapsulation\n",
    "-> the idea of wrapping data and the methods that work on data within one unit.\n",
    "Level of data abstraction:\n",
    "* public\n",
    "* protected\n",
    "* private"
   ]
  },
  {
   "cell_type": "code",
   "execution_count": 22,
   "id": "831c8643",
   "metadata": {},
   "outputs": [
    {
     "name": "stdout",
     "output_type": "stream",
     "text": [
      "7 10\n"
     ]
    }
   ],
   "source": [
    "#PUBLIC\n",
    "# Deriving the data from base class and its derived class\n",
    "class base:\n",
    "    def __init__(self):\n",
    "        self.a = 7\n",
    "\n",
    "class derived(base):\n",
    "    def __init__(self):\n",
    "        base.__init__(self)\n",
    "        base.b = 10\n",
    "\n",
    "# instance = base()\n",
    "instance = derived()\n",
    "print(instance.a, instance.b)"
   ]
  },
  {
   "cell_type": "raw",
   "id": "32d867d4",
   "metadata": {},
   "source": [
    "Protected\n",
    "-> the data is limited for use wihtin the class it is created and its child (derived) class. "
   ]
  },
  {
   "cell_type": "code",
   "execution_count": 23,
   "id": "493c9224",
   "metadata": {},
   "outputs": [
    {
     "name": "stdout",
     "output_type": "stream",
     "text": [
      "10\n"
     ]
    }
   ],
   "source": [
    "#PROTECTED\n",
    "# Deriving the data from its derived class\n",
    "class base:\n",
    "    def __init__(self):\n",
    "        self._a = 7\n",
    "\n",
    "class derived(base):\n",
    "    def __init__(self):\n",
    "        base.__init__(self)\n",
    "        base.b = 10\n",
    "\n",
    "# instance = base()\n",
    "instance = derived()\n",
    "# print(instance.a, instance.b)\n",
    "print(instance.b)"
   ]
  },
  {
   "cell_type": "raw",
   "id": "dc337c3e",
   "metadata": {},
   "source": [
    "Private\n",
    "-> the data is limited for use wihtin the class and nowhere else. (Rare case scenerio)"
   ]
  },
  {
   "cell_type": "code",
   "execution_count": 24,
   "id": "632ea682",
   "metadata": {},
   "outputs": [
    {
     "name": "stdout",
     "output_type": "stream",
     "text": [
      "10\n"
     ]
    }
   ],
   "source": [
    "#Private\n",
    "class base:\n",
    "    def __init__(self):\n",
    "        self.__a = 7\n",
    "\n",
    "class derived(base):\n",
    "    def __init__(self):\n",
    "        base.__init__(self)\n",
    "        base.b = 10\n",
    "#         print(self.__a) --> throws error about its inexistence\n",
    "\n",
    "# instance = base()\n",
    "instance = derived()\n",
    "print(instance.b)"
   ]
  },
  {
   "cell_type": "code",
   "execution_count": null,
   "id": "91424e3a",
   "metadata": {},
   "outputs": [],
   "source": []
  },
  {
   "cell_type": "code",
   "execution_count": null,
   "id": "af2837fd",
   "metadata": {},
   "outputs": [],
   "source": []
  }
 ],
 "metadata": {
  "kernelspec": {
   "display_name": "Python 3 (ipykernel)",
   "language": "python",
   "name": "python3"
  },
  "language_info": {
   "codemirror_mode": {
    "name": "ipython",
    "version": 3
   },
   "file_extension": ".py",
   "mimetype": "text/x-python",
   "name": "python",
   "nbconvert_exporter": "python",
   "pygments_lexer": "ipython3",
   "version": "3.9.7"
  }
 },
 "nbformat": 4,
 "nbformat_minor": 5
}
