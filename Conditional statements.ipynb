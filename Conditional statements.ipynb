{
 "cells": [
  {
   "cell_type": "code",
   "execution_count": 15,
   "id": "29bd62d5",
   "metadata": {},
   "outputs": [
    {
     "name": "stdout",
     "output_type": "stream",
     "text": [
      "Hello rahul, the value of a is 10 and discount is 1.0\n"
     ]
    }
   ],
   "source": [
    "a = 10\n",
    "b ='rahul'\n",
    "print('Hello {}, the value of a is {} and discount is {}' .format(b,a, (a*0.10)))"
   ]
  },
  {
   "cell_type": "code",
   "execution_count": 1,
   "id": "509563e4",
   "metadata": {},
   "outputs": [
    {
     "name": "stdout",
     "output_type": "stream",
     "text": [
      "Enter your name:rahul\n",
      "Enter your marks:99\n",
      "Hello rahul, You have scored 99 and passed with S grade\n"
     ]
    }
   ],
   "source": [
    "#IF Statement and ELIF statement\n",
    "name = input(\"Enter your name: \")\n",
    "a = int(input(\"Enter your marks: \"))\n",
    "if a < 45:\n",
    "    print(\"Hello {}, Better luck next time, Kindly re-appear for the exam\".format(name))\n",
    "elif a < 50:\n",
    "    print(\"Hello {}, You have scored {} and passed with E grade\".format(name, a))\n",
    "elif a < 60:\n",
    "    print(\"Hello {}, You have scored {} and passed with D grade\".format(name, a))\n",
    "elif a < 70:\n",
    "    print(\"Hello {}, You have scored {} and passed with C grade\".format(name, a))\n",
    "elif a < 80:\n",
    "    print(\"Hello {}, You have scored {} and passed with B grade\".format(name, a))\n",
    "elif a < 90:\n",
    "    print(\"Hello {}, You have scored {} and passed with A grade\".format(name, a))\n",
    "elif a < 100:\n",
    "    print(\"Hello {}, You have scored {} and passed with S grade\".format(name, a))\n",
    "    \n",
    "    "
   ]
  },
  {
   "cell_type": "code",
   "execution_count": 7,
   "id": "50393233",
   "metadata": {},
   "outputs": [
    {
     "name": "stdout",
     "output_type": "stream",
     "text": [
      "Enter your name:Rahul\n",
      "Enter the time for gre_prep: 5\n",
      "Enter the time for ds_prep: 5\n",
      "Hello Rahul, You need to work hard for your career.\n"
     ]
    }
   ],
   "source": [
    "name = input(\"Enter your name:\")\n",
    "gre_prep = int(input(\"Enter the time for gre_prep: \"))\n",
    "ds_prep =  int(input(\"Enter the time for ds_prep: \" ))\n",
    "if gre_prep >= 40 and ds_prep >= 40:\n",
    "    print(\"Congrats {}, You are good to go for career.\".format(name))\n",
    "elif gre_prep <= 40 and ds_prep >= 40:\n",
    "    print(\"Congrats {}, You are good to go for your ds career. But you need to work hard on gre part\".format(name))\n",
    "elif gre_prep >= 40 and ds_prep <= 40:\n",
    "    print(\"Congrats {}, You are good to go for your gre exam. But you need to work hard on ds part\".format(name))\n",
    "else:\n",
    "    print(\"Hello {}, You need to work hard for your career.\".format(name))"
   ]
  },
  {
   "cell_type": "code",
   "execution_count": 12,
   "id": "02d333d1",
   "metadata": {},
   "outputs": [
    {
     "name": "stdout",
     "output_type": "stream",
     "text": [
      "1\n",
      "2\n",
      "3\n",
      "4\n",
      "11\n",
      "33\n",
      "44\n"
     ]
    }
   ],
   "source": [
    "#For loop\n",
    "lst = [1, 2, 3, 4, 1.2, 1.3, \"deo\", [11,22.3,33,44]]\n",
    "# print(type(lst))\n",
    "for i in lst:\n",
    "    if type(i) == int:\n",
    "        print(i)\n",
    "    elif type(i) == list:\n",
    "        for j in i:\n",
    "            if type(j) == int:\n",
    "                print(j)"
   ]
  },
  {
   "cell_type": "code",
   "execution_count": 45,
   "id": "5621419e",
   "metadata": {},
   "outputs": [
    {
     "name": "stdout",
     "output_type": "stream",
     "text": [
      "Index of 2 is 0\n",
      "Index of 45 is 1\n",
      "Index of 78 is 2\n",
      "Index of 12 is 3\n",
      "Index of rahul is 4\n",
      "Index of (7+8j) is 5\n",
      "Index of 56 is 6,0\n",
      "Index of 67 is 6,1\n",
      "Index of 78 is 6,2\n",
      "Index of deo is 6,3\n",
      "r\n",
      "a\n",
      "h\n",
      "u\n",
      "l\n",
      "d\n",
      "e\n",
      "o\n",
      "[4, 2025, 6084, 144, 3136, 4489, 6084]\n"
     ]
    }
   ],
   "source": [
    "lit = [2 ,45 , 78, 12, 'rahul', 7+8j, [56, 67, 78, \"deo\"]] \n",
    "cnt = 0\n",
    "# print index of all the elements\n",
    "for i in lit:\n",
    "    if type(i) == int:\n",
    "        print(\"Index of {} is {}\".format(i,cnt))\n",
    "    elif type(i) == str:\n",
    "        print(\"Index of {} is {}\".format(i,cnt))\n",
    "    elif type(i) == complex:\n",
    "        print(\"Index of {} is {}\".format(i,cnt))\n",
    "    elif type(i) == list:\n",
    "        cnt1 = 0\n",
    "        for j in i:\n",
    "            print(\"Index of {} is {},{}\".format(i[cnt1],cnt,cnt1))\n",
    "            cnt1+=1\n",
    "    cnt+=1\n",
    "\n",
    "# print charachters of string in the list\n",
    "for i in lit:\n",
    "    if type(i) == str:\n",
    "        for j in i:\n",
    "            print(j)\n",
    "    elif type(i) == list:\n",
    "        for j in i:\n",
    "            if type(j) == str:\n",
    "                for k in j:\n",
    "                    print(k)\n",
    "                    \n",
    "#print list of squares of the int elements in the list\n",
    "lst_a = []\n",
    "for i in lit:\n",
    "    if type(i) == int:\n",
    "        lst_a.append(i*i)\n",
    "    elif type(i) == list:\n",
    "        for j in i:\n",
    "            if type(j) == int:\n",
    "                lst_a.append(j*j)\n",
    "print(lst_a)\n",
    "        "
   ]
  },
  {
   "cell_type": "code",
   "execution_count": 46,
   "id": "2ef52686",
   "metadata": {},
   "outputs": [
    {
     "name": "stdout",
     "output_type": "stream",
     "text": [
      "index of 2 is 0\n",
      "index of 45 is 1\n",
      "index of 78 is 2\n",
      "index of 12 is 3\n",
      "index of rahul is 4\n",
      "index of (7+8j) is 5\n",
      "index of [56, 67, 78, 'deo'] is 6\n"
     ]
    }
   ],
   "source": [
    "for i in range(len(lit)):\n",
    "    print('index of {} is {}'.format(lit[i],i))"
   ]
  },
  {
   "cell_type": "code",
   "execution_count": 50,
   "id": "6e6eca77",
   "metadata": {},
   "outputs": [
    {
     "name": "stdout",
     "output_type": "stream",
     "text": [
      "(0, 2)\n",
      "(1, 45)\n",
      "(2, 78)\n",
      "(3, 12)\n",
      "(4, 'rahul')\n",
      "(5, (7+8j))\n",
      "(6, [56, 67, 78, 'deo'])\n",
      "index of 2 is 0\n",
      "index of 45 is 1\n",
      "index of 78 is 2\n",
      "index of 12 is 3\n",
      "index of rahul is 4\n",
      "index of (7+8j) is 5\n",
      "index of [56, 67, 78, 'deo'] is 6\n"
     ]
    }
   ],
   "source": [
    "for i in enumerate(lit):\n",
    "    print(i)\n",
    "for i,j in enumerate(lit):\n",
    "    print('index of {} is {}'.format(j,i))"
   ]
  },
  {
   "cell_type": "code",
   "execution_count": 4,
   "id": "64b20c86",
   "metadata": {},
   "outputs": [
    {
     "name": "stdout",
     "output_type": "stream",
     "text": [
      "R\n",
      "a\n",
      "H\n",
      "u\n",
      "L\n",
      "If for loop is complete, the else part is executed\n"
     ]
    }
   ],
   "source": [
    "#FOR - ELSE\n",
    "name = 'RaHuL'\n",
    "for i in name:\n",
    "    print(i)\n",
    "else :\n",
    "    print('If for loop is complete, the else part is executed')"
   ]
  },
  {
   "cell_type": "code",
   "execution_count": 8,
   "id": "ff402f4e",
   "metadata": {},
   "outputs": [
    {
     "name": "stdout",
     "output_type": "stream",
     "text": [
      "R\n",
      "a\n"
     ]
    }
   ],
   "source": [
    "for i in name:\n",
    "    if i == 'H':\n",
    "        break\n",
    "    print(i)\n",
    "else :\n",
    "    print(\"For loop complete\")"
   ]
  },
  {
   "cell_type": "code",
   "execution_count": 10,
   "id": "8bac5c9c",
   "metadata": {},
   "outputs": [
    {
     "name": "stdout",
     "output_type": "stream",
     "text": [
      "1\n",
      "2\n",
      "3\n",
      "4\n"
     ]
    }
   ],
   "source": [
    "# While - loop\n",
    "num = 1\n",
    "while num < 5 :\n",
    "    print(num)\n",
    "    num+=1"
   ]
  },
  {
   "cell_type": "code",
   "execution_count": 5,
   "id": "2bbe882b",
   "metadata": {},
   "outputs": [
    {
     "name": "stdout",
     "output_type": "stream",
     "text": [
      "1\n",
      "2\n",
      "4\n",
      "5\n"
     ]
    }
   ],
   "source": [
    "# Understanding break and continue\n",
    "num = 0\n",
    "while num < 5:\n",
    "    num+=1\n",
    "    if(num == 3):\n",
    "#         print('It is odd')\n",
    "        continue\n",
    "    print(num)\n",
    "#     print('Hi')"
   ]
  },
  {
   "cell_type": "code",
   "execution_count": null,
   "id": "1ab86712",
   "metadata": {},
   "outputs": [],
   "source": [
    "#Pass\n",
    "num2 = 2\n",
    "while num2 == 2:\n",
    "    break  #replace break with pass"
   ]
  },
  {
   "cell_type": "code",
   "execution_count": 40,
   "id": "ced37e09",
   "metadata": {},
   "outputs": [
    {
     "name": "stdout",
     "output_type": "stream",
     "text": [
      "*\r\n",
      "**\r\n",
      "***\r\n",
      "****\r\n",
      "*****\r\n"
     ]
    }
   ],
   "source": [
    "#Understanding Pattern printing \n",
    "for i in range(5):\n",
    "    for j in range(0,i+1):\n",
    "        print('*', end='')\n",
    "    print('\\r')\n",
    "    "
   ]
  },
  {
   "cell_type": "code",
   "execution_count": 42,
   "id": "1e6d6567",
   "metadata": {},
   "outputs": [
    {
     "name": "stdout",
     "output_type": "stream",
     "text": [
      "7\n",
      "6\n",
      "5\n",
      "4\n",
      "3\n",
      "2\n"
     ]
    }
   ],
   "source": [
    "lst = [1,2,3,4,5,6,7]\n",
    "for i in range(len(lst)-1,0,-1):\n",
    "    print(lst[i])"
   ]
  },
  {
   "cell_type": "code",
   "execution_count": 14,
   "id": "0af737eb",
   "metadata": {},
   "outputs": [
    {
     "name": "stdout",
     "output_type": "stream",
     "text": [
      "14\n",
      "nohtyp gninrael"
     ]
    }
   ],
   "source": [
    "string = 'learning python'\n",
    "lent = len(string)-1\n",
    "print(lent)\n",
    "while(lent >= 0):\n",
    "    print(string[lent],end='')\n",
    "    lent-=1"
   ]
  },
  {
   "cell_type": "code",
   "execution_count": 5,
   "id": "de02cd71",
   "metadata": {},
   "outputs": [
    {
     "name": "stdout",
     "output_type": "stream",
     "text": [
      "r is not a vowel\n",
      "a is vowel\n",
      "h is not a vowel\n",
      "u is vowel\n",
      "l is not a vowel\n",
      "d is not a vowel\n",
      "e is vowel\n",
      "o is vowel\n"
     ]
    }
   ],
   "source": [
    "name = ' rahul deo '\n",
    "\n",
    "vowel = 'AaEeIiOoUu'\n",
    "alpha = 'abcdefghijklmnopqrstuvwxyz'\n",
    "for i in name:\n",
    "    if i in vowel and i in alpha:\n",
    "        print('{} is vowel'.format(i))\n",
    "    elif i in alpha:\n",
    "        print('{} is not a vowel'.format(i))\n",
    "    else:\n",
    "        continue"
   ]
  },
  {
   "cell_type": "code",
   "execution_count": null,
   "id": "93018dc6",
   "metadata": {},
   "outputs": [],
   "source": []
  }
 ],
 "metadata": {
  "kernelspec": {
   "display_name": "Python 3 (ipykernel)",
   "language": "python",
   "name": "python3"
  },
  "language_info": {
   "codemirror_mode": {
    "name": "ipython",
    "version": 3
   },
   "file_extension": ".py",
   "mimetype": "text/x-python",
   "name": "python",
   "nbconvert_exporter": "python",
   "pygments_lexer": "ipython3",
   "version": "3.9.7"
  }
 },
 "nbformat": 4,
 "nbformat_minor": 5
}
