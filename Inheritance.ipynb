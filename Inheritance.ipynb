{
 "cells": [
  {
   "cell_type": "raw",
   "id": "c3cb841b",
   "metadata": {},
   "source": [
    "Inheritance\n",
    "-> making use of methods from parent class(base class)"
   ]
  },
  {
   "cell_type": "code",
   "execution_count": 8,
   "id": "627c5c73",
   "metadata": {},
   "outputs": [
    {
     "name": "stdout",
     "output_type": "stream",
     "text": [
      "rahul of age 22 is from IBM with salary 40000\n"
     ]
    }
   ],
   "source": [
    "#Inheritance explained\n",
    "class employee:\n",
    "    def __init__(self, name, age):\n",
    "        self.name = name\n",
    "        self.age = age\n",
    "    def salary(self, company, salary):\n",
    "        self.company = company\n",
    "        self.salary = salary\n",
    "    def display(self):\n",
    "        print(self.name, self.age, self.company, self.salary)\n",
    "\n",
    "class detail(employee):\n",
    "    def filt(self):\n",
    "        if self.company == 'IBM':\n",
    "            print('{} of age {} is from {} with salary {}'.format(self.name, self.age, self.company, self.salary))\n",
    "\n",
    "inst = detail('rahul',22) \n",
    "inst.salary('IBM',40000)\n",
    "inst.filt()"
   ]
  },
  {
   "cell_type": "code",
   "execution_count": 10,
   "id": "b687c7c8",
   "metadata": {},
   "outputs": [
    {
     "name": "stdout",
     "output_type": "stream",
     "text": [
      "Rahul of age 22 is from IBM with salary 30000\n"
     ]
    }
   ],
   "source": [
    "class employee:\n",
    "    def __init__(self, name, age):\n",
    "        self.name = name\n",
    "        self.age = age\n",
    "    def salary(self, company, salary):\n",
    "        self.company = company\n",
    "        self.salary = salary\n",
    "    def display(self):\n",
    "        print(self.name, self.age, self.company, self.salary)\n",
    "\n",
    "class detail(employee):\n",
    "    def __init__(self, name, age, company, salary):\n",
    "        employee.__init__(self, name, age)\n",
    "        employee.salary(self, company, salary)\n",
    "            \n",
    "    def disp(self):\n",
    "        print('{} of age {} is from {} with salary {}'.format(self.name, self.age, self.company, self.salary))\n",
    "\n",
    "inst = detail('Rahul', 22, 'IBM', 30000)\n",
    "inst.disp()"
   ]
  },
  {
   "cell_type": "raw",
   "id": "03987407",
   "metadata": {},
   "source": [
    "In the above case, the values for all the init and functions of main class can be taken in the child class and distributed to the main parent class in the child __init__ class"
   ]
  },
  {
   "cell_type": "code",
   "execution_count": 12,
   "id": "906102f2",
   "metadata": {},
   "outputs": [
    {
     "name": "stdout",
     "output_type": "stream",
     "text": [
      "Base1\n",
      "Base2\n",
      "Derived\n",
      "Geek1 Geek2\n"
     ]
    }
   ],
   "source": [
    "# Python example to show the working of multiple\n",
    "# inheritance\n",
    "class Base1():\n",
    "    def __init__(self):\n",
    "        self.str1 = \"Geek1\"\n",
    "        print(\"Base1\")\n",
    "\n",
    "class Base2():\n",
    "    def __init__(self):\n",
    "        self.str2 = \"Geek2\"\t\n",
    "        print(\"Base2\")\n",
    "\n",
    "class Derived(Base1, Base2):\n",
    "    def __init__(self):\n",
    "        Base1.__init__(self)\n",
    "        Base2.__init__(self)\n",
    "        print(\"Derived\")\n",
    "\n",
    "    def printStrs(self):\n",
    "        print(self.str1, self.str2)\n",
    "\n",
    "ob = Derived()\n",
    "ob.printStrs()"
   ]
  },
  {
   "cell_type": "code",
   "execution_count": 26,
   "id": "318e5cd4",
   "metadata": {},
   "outputs": [
    {
     "data": {
      "text/plain": [
       "('rahul', 22, 'chennai')"
      ]
     },
     "execution_count": 26,
     "metadata": {},
     "output_type": "execute_result"
    }
   ],
   "source": [
    "# Python example to show the working of multi-level\n",
    "# inheritance\n",
    "class base():\n",
    "    def __init__(self, name):\n",
    "        self.name = name\n",
    "    def get_name(self):\n",
    "        return self.name\n",
    "    \n",
    "class child(base):\n",
    "    def __init__(self, name, age):\n",
    "        self.age = age\n",
    "        base.__init__(self, name)\n",
    "    def get_age(self):\n",
    "        return self.age\n",
    "    \n",
    "class gd(child):\n",
    "    def __init__(self, name, age, place):\n",
    "        child.__init__(self, name, age)\n",
    "        self.place = place\n",
    "    def get_place(self):\n",
    "        return self.place\n",
    "    def get_detail(self):\n",
    "        return (self.get_name(), self.get_age(), self.get_place())\n",
    "    \n",
    "i = gd('rahul',22, 'chennai')\n",
    "i.get_detail()\n",
    "    "
   ]
  },
  {
   "cell_type": "code",
   "execution_count": null,
   "id": "ec3eb804",
   "metadata": {},
   "outputs": [],
   "source": []
  }
 ],
 "metadata": {
  "kernelspec": {
   "display_name": "Python 3 (ipykernel)",
   "language": "python",
   "name": "python3"
  },
  "language_info": {
   "codemirror_mode": {
    "name": "ipython",
    "version": 3
   },
   "file_extension": ".py",
   "mimetype": "text/x-python",
   "name": "python",
   "nbconvert_exporter": "python",
   "pygments_lexer": "ipython3",
   "version": "3.9.7"
  }
 },
 "nbformat": 4,
 "nbformat_minor": 5
}
