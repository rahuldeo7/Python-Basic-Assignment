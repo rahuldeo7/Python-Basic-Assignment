{
 "cells": [
  {
   "cell_type": "code",
   "execution_count": 14,
   "id": "50eff1ad",
   "metadata": {},
   "outputs": [
    {
     "name": "stdout",
     "output_type": "stream",
     "text": [
      "mal\n",
      "mal is not a pallindrome\n"
     ]
    }
   ],
   "source": [
    "#Pallindrome\n",
    "inp = input()\n",
    "s = ''\n",
    "for i in range(len(inp)-1,-1,-1):\n",
    "    s+=inp[i]\n",
    "if inp == s:\n",
    "    print('{} is a pallindrome'.format(inp))\n",
    "else:\n",
    "    print('{} is not a pallindrome'.format(inp))"
   ]
  },
  {
   "cell_type": "code",
   "execution_count": 23,
   "id": "ff991850",
   "metadata": {},
   "outputs": [
    {
     "name": "stdout",
     "output_type": "stream",
     "text": [
      "deoed\n",
      "deoed is palindrome\n"
     ]
    }
   ],
   "source": [
    "#pallindrome alternate\n",
    "inp = input()\n",
    "store = inp[::-1]\n",
    "if inp == store:\n",
    "    print('{} is palindrome'.format(inp)) \n",
    "else:\n",
    "    print('{} is not a palindrome'.format(inp))"
   ]
  },
  {
   "cell_type": "code",
   "execution_count": 49,
   "id": "2a4ba28f",
   "metadata": {},
   "outputs": [
    {
     "name": "stdout",
     "output_type": "stream",
     "text": [
      "rahul\n",
      "rahul is not a palindrome\n"
     ]
    }
   ],
   "source": [
    "inp = input()\n",
    "count = 0\n",
    "while(count<len(inp) and inp[count] == inp[len(inp)-count-1]):\n",
    "    count+=1\n",
    "if count == len(inp):\n",
    "    print('{} is palindrome'.format(inp)) \n",
    "else:\n",
    "    print('{} is not a palindrome'.format(inp))\n",
    "    "
   ]
  },
  {
   "cell_type": "code",
   "execution_count": 14,
   "id": "111db1cc",
   "metadata": {},
   "outputs": [
    {
     "name": "stdout",
     "output_type": "stream",
     "text": [
      "5\n",
      "24\n",
      "6\n",
      "5\n",
      "['United States of America', 'Canada'] ['India', 'China']\n"
     ]
    }
   ],
   "source": [
    "d = {'India' : 'IN', 'United States of America':'US', 'Canada':'CA','China':'CH'}\n",
    "list1 = []\n",
    "list2 = []\n",
    "for i in d.keys():\n",
    "#     print(len(i))\n",
    "    if len(i)>5:\n",
    "        list1.append(i)\n",
    "    else :\n",
    "        list2.append(i)\n",
    "print(list1,list2)"
   ]
  },
  {
   "cell_type": "code",
   "execution_count": 33,
   "id": "a3c59c7a",
   "metadata": {},
   "outputs": [
    {
     "name": "stdout",
     "output_type": "stream",
     "text": [
      "('value1', {'a': 14, 'b': 10, 'c': 9})\n",
      "14 is the greatest in value1\n",
      "24 is the greatest in value2\n"
     ]
    }
   ],
   "source": [
    "#minimum value in keys given dictionary\n",
    "d_1 = {'value1':{'a':14, 'b':10, 'c':9},\n",
    "      'value2' : {'d':24, 'e':12, 'f':10}}\n",
    "print(min(d_1.items()))\n",
    "for i in d_1.keys():\n",
    "    l = len(d_1[i])\n",
    "    mi = 0\n",
    "    for j in d_1[i].keys():\n",
    "        while(l):\n",
    "            if d_1[i][j] > mi:\n",
    "                mi = d_1[i][j]\n",
    "            l-=1\n",
    "    print('{} is the greatest in {}'.format(mi,i))          "
   ]
  },
  {
   "cell_type": "code",
   "execution_count": 35,
   "id": "320e50fc",
   "metadata": {},
   "outputs": [
    {
     "name": "stdout",
     "output_type": "stream",
     "text": [
      "14\n",
      "24\n"
     ]
    }
   ],
   "source": [
    "#alternate solution\n",
    "d_1 = {'value1':{'a':14, 'b':10, 'c':9},\n",
    "      'value2' : {'d':24, 'e':12, 'f':10}}\n",
    "for i in d_1.keys():\n",
    "    print(max(d_1[i].values()))"
   ]
  },
  {
   "cell_type": "code",
   "execution_count": 95,
   "id": "00cc1c97",
   "metadata": {},
   "outputs": [
    {
     "name": "stdout",
     "output_type": "stream",
     "text": [
      "134\n"
     ]
    }
   ],
   "source": [
    "d_1 = {'value1':{'a':14, 'b':10, 'c':9},\n",
    "      'value2' : {'d':24, 'e':12, 'f':10},'value3':134, 'value4':[45,6,7,8,9,3],\n",
    "       'value5':(45,34,2), 'value6':\"rahul\"}\n",
    "m = 0\n",
    "for i in d_1.keys():\n",
    "    if type(d_1[i]) == dict:\n",
    "        if max(d_1[i].values()) > m:\n",
    "            m = max(d_1[i].values())\n",
    "    elif type(d_1[i]) == tuple or type(d_1[i]) == list:\n",
    "        if max(d_1[i]) > m:\n",
    "            m = max(d_1[i])\n",
    "    elif type(d_1[i]) == int:\n",
    "        if d_1[i]>m:\n",
    "            m = d_1[i]\n",
    "    else:\n",
    "        break\n",
    "    \n",
    "print(m)"
   ]
  },
  {
   "cell_type": "code",
   "execution_count": null,
   "id": "986ec3bb",
   "metadata": {},
   "outputs": [],
   "source": []
  }
 ],
 "metadata": {
  "kernelspec": {
   "display_name": "Python 3 (ipykernel)",
   "language": "python",
   "name": "python3"
  },
  "language_info": {
   "codemirror_mode": {
    "name": "ipython",
    "version": 3
   },
   "file_extension": ".py",
   "mimetype": "text/x-python",
   "name": "python",
   "nbconvert_exporter": "python",
   "pygments_lexer": "ipython3",
   "version": "3.9.7"
  }
 },
 "nbformat": 4,
 "nbformat_minor": 5
}
