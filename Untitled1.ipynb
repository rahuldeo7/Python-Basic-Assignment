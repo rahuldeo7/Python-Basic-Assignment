{
 "cells": [
  {
   "cell_type": "code",
   "execution_count": 8,
   "id": "aaa0b095",
   "metadata": {},
   "outputs": [
    {
     "name": "stdout",
     "output_type": "stream",
     "text": [
      "Inside reverse_decorator function\n"
     ]
    }
   ],
   "source": [
    "def reverse_decorator(function):\n",
    "    print('Inside reverse_decorator function')\n",
    "  \n",
    "    def reverse_wrapper():\n",
    "        print('Inside reverse_wrapper function')\n",
    "        return 'Return reverse_wrapper function'\n",
    "  \n",
    "    return reverse_wrapper\n",
    "  \n",
    "  \n",
    "@reverse_decorator\n",
    "def say_hi():\n",
    "    return 'Inside say_hi'\n",
    "\n",
    "# say_hi()"
   ]
  },
  {
   "cell_type": "code",
   "execution_count": 4,
   "id": "117eab87",
   "metadata": {},
   "outputs": [
    {
     "ename": "NameError",
     "evalue": "name 'function' is not defined",
     "output_type": "error",
     "traceback": [
      "\u001b[0;31m---------------------------------------------------------------------------\u001b[0m",
      "\u001b[0;31mNameError\u001b[0m                                 Traceback (most recent call last)",
      "\u001b[0;32m/tmp/ipykernel_242078/785908484.py\u001b[0m in \u001b[0;36m<module>\u001b[0;34m\u001b[0m\n\u001b[1;32m      3\u001b[0m     \u001b[0;32mreturn\u001b[0m \u001b[0mfunction\u001b[0m\u001b[0;34m\u001b[0m\u001b[0;34m\u001b[0m\u001b[0m\n\u001b[1;32m      4\u001b[0m \u001b[0;34m\u001b[0m\u001b[0m\n\u001b[0;32m----> 5\u001b[0;31m \u001b[0mdecorated_docstring\u001b[0m\u001b[0;34m(\u001b[0m\u001b[0;34m)\u001b[0m\u001b[0;34m\u001b[0m\u001b[0;34m\u001b[0m\u001b[0m\n\u001b[0m",
      "\u001b[0;32m/tmp/ipykernel_242078/785908484.py\u001b[0m in \u001b[0;36mdecorated_docstring\u001b[0;34m()\u001b[0m\n\u001b[1;32m      1\u001b[0m \u001b[0;32mdef\u001b[0m \u001b[0mdecorated_docstring\u001b[0m\u001b[0;34m(\u001b[0m\u001b[0;34m)\u001b[0m\u001b[0;34m:\u001b[0m\u001b[0;34m\u001b[0m\u001b[0;34m\u001b[0m\u001b[0m\n\u001b[0;32m----> 2\u001b[0;31m     \u001b[0mfunction\u001b[0m\u001b[0;34m.\u001b[0m\u001b[0m__doc__\u001b[0m \u001b[0;34m+=\u001b[0m \u001b[0;34m'\\n Hi George, I'\u001b[0m\u001b[0;34m'm a simple Decorator.'\u001b[0m\u001b[0;34m\u001b[0m\u001b[0;34m\u001b[0m\u001b[0m\n\u001b[0m\u001b[1;32m      3\u001b[0m     \u001b[0;32mreturn\u001b[0m \u001b[0mfunction\u001b[0m\u001b[0;34m\u001b[0m\u001b[0;34m\u001b[0m\u001b[0m\n\u001b[1;32m      4\u001b[0m \u001b[0;34m\u001b[0m\u001b[0m\n\u001b[1;32m      5\u001b[0m \u001b[0mdecorated_docstring\u001b[0m\u001b[0;34m(\u001b[0m\u001b[0;34m)\u001b[0m\u001b[0;34m\u001b[0m\u001b[0;34m\u001b[0m\u001b[0m\n",
      "\u001b[0;31mNameError\u001b[0m: name 'function' is not defined"
     ]
    }
   ],
   "source": [
    "def decorated_docstring():\n",
    "    function.__doc__ += '\\n Hi George, I''m a simple Decorator.'\n",
    "    return function\n",
    "\n",
    "decorated_docstring()"
   ]
  },
  {
   "cell_type": "code",
   "execution_count": 6,
   "id": "9fc6b7d7",
   "metadata": {},
   "outputs": [],
   "source": [
    "def decorated_docstring(function):\n",
    "    function.__doc__ += '\\n Hi George, I''m a simple Decorator.'\n",
    "    return function\n",
    "  \n",
    "def my_function(string1):\n",
    "    \"\"\"Return the string.\"\"\"\n",
    "    return string1\n",
    "  \n",
    "def main():\n",
    "    myFunc = decorated_docstring(my_function)\n",
    "    myFunc('Hai')\n",
    "#     help(myFunc)\n",
    "  \n",
    "if __name__ == \"__main__\":\n",
    "    main()"
   ]
  },
  {
   "cell_type": "code",
   "execution_count": 15,
   "id": "f368009e",
   "metadata": {},
   "outputs": [
    {
     "name": "stdout",
     "output_type": "stream",
     "text": [
      "It is decor attached\n"
     ]
    },
    {
     "data": {
      "text/plain": [
       "'Hello how are you'"
      ]
     },
     "execution_count": 15,
     "metadata": {},
     "output_type": "execute_result"
    }
   ],
   "source": [
    "def my_decor(func):\n",
    "    def attach():\n",
    "        print(\"It is decor attached\")\n",
    "        return func()\n",
    "    return attach\n",
    "\n",
    "@my_decor\n",
    "def output():\n",
    "    return 'Hello how are you'\n",
    "\n",
    "output()"
   ]
  },
  {
   "cell_type": "code",
   "execution_count": 19,
   "id": "33c405f2",
   "metadata": {},
   "outputs": [
    {
     "data": {
      "text/plain": [
       "100"
      ]
     },
     "execution_count": 19,
     "metadata": {},
     "output_type": "execute_result"
    }
   ],
   "source": [
    "def decor(func):\n",
    "    def deo(*args):\n",
    "        return func()*2\n",
    "    return deo\n",
    "\n",
    "def decor1(func):\n",
    "    def deo1(*args):\n",
    "        return func()*5\n",
    "    return deo1\n",
    "\n",
    "@decor1\n",
    "@decor\n",
    "def inp():\n",
    "    return 10\n",
    "inp()"
   ]
  },
  {
   "cell_type": "code",
   "execution_count": null,
   "id": "e6a2ccc7",
   "metadata": {},
   "outputs": [],
   "source": []
  }
 ],
 "metadata": {
  "kernelspec": {
   "display_name": "Python 3 (ipykernel)",
   "language": "python",
   "name": "python3"
  },
  "language_info": {
   "codemirror_mode": {
    "name": "ipython",
    "version": 3
   },
   "file_extension": ".py",
   "mimetype": "text/x-python",
   "name": "python",
   "nbconvert_exporter": "python",
   "pygments_lexer": "ipython3",
   "version": "3.9.7"
  }
 },
 "nbformat": 4,
 "nbformat_minor": 5
}
