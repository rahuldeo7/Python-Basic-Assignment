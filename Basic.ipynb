{
 "cells": [
  {
   "cell_type": "code",
   "execution_count": 1,
   "id": "2806e32d",
   "metadata": {},
   "outputs": [
    {
     "name": "stdout",
     "output_type": "stream",
     "text": [
      "The Zen of Python, by Tim Peters\n",
      "\n",
      "Beautiful is better than ugly.\n",
      "Explicit is better than implicit.\n",
      "Simple is better than complex.\n",
      "Complex is better than complicated.\n",
      "Flat is better than nested.\n",
      "Sparse is better than dense.\n",
      "Readability counts.\n",
      "Special cases aren't special enough to break the rules.\n",
      "Although practicality beats purity.\n",
      "Errors should never pass silently.\n",
      "Unless explicitly silenced.\n",
      "In the face of ambiguity, refuse the temptation to guess.\n",
      "There should be one-- and preferably only one --obvious way to do it.\n",
      "Although that way may not be obvious at first unless you're Dutch.\n",
      "Now is better than never.\n",
      "Although never is often better than *right* now.\n",
      "If the implementation is hard to explain, it's a bad idea.\n",
      "If the implementation is easy to explain, it may be a good idea.\n",
      "Namespaces are one honking great idea -- let's do more of those!\n"
     ]
    }
   ],
   "source": [
    "import this"
   ]
  },
  {
   "cell_type": "code",
   "execution_count": 3,
   "id": "3a2b0f0d",
   "metadata": {},
   "outputs": [],
   "source": [
    "a = 10\n",
    "b = 10.10\n",
    "c = \"deo\"\n",
    "d = True\n",
    "e = 1+1j"
   ]
  },
  {
   "cell_type": "code",
   "execution_count": 7,
   "id": "59034a2f",
   "metadata": {},
   "outputs": [
    {
     "name": "stdout",
     "output_type": "stream",
     "text": [
      "<class 'int'>\n",
      "<class 'float'>\n",
      "<class 'str'>\n",
      "<class 'bool'>\n",
      "<class 'complex'>\n"
     ]
    }
   ],
   "source": [
    "print(type(a))\n",
    "print(type(b))\n",
    "print(type(c))\n",
    "print(type(d))\n",
    "print(type(e))"
   ]
  },
  {
   "cell_type": "code",
   "execution_count": 10,
   "id": "a983173c",
   "metadata": {},
   "outputs": [],
   "source": [
    "e,f,g,h,i = 10, 10.10, \"deo\", True, 1+1j"
   ]
  },
  {
   "cell_type": "code",
   "execution_count": 13,
   "id": "e088cda1",
   "metadata": {},
   "outputs": [
    {
     "name": "stdout",
     "output_type": "stream",
     "text": [
      "10 10.1 deo True (1+1j)\n"
     ]
    }
   ],
   "source": [
    "print(e,f,g,h,i)"
   ]
  },
  {
   "cell_type": "code",
   "execution_count": 15,
   "id": "c29f3bba",
   "metadata": {},
   "outputs": [
    {
     "data": {
      "text/plain": [
       "2"
      ]
     },
     "execution_count": 15,
     "metadata": {},
     "output_type": "execute_result"
    }
   ],
   "source": [
    "True + True"
   ]
  },
  {
   "cell_type": "code",
   "execution_count": 16,
   "id": "67d2a095",
   "metadata": {},
   "outputs": [
    {
     "name": "stdout",
     "output_type": "stream",
     "text": [
      "Rahul Deo\n"
     ]
    },
    {
     "data": {
      "text/plain": [
       "'Rahul Deo'"
      ]
     },
     "execution_count": 16,
     "metadata": {},
     "output_type": "execute_result"
    }
   ],
   "source": [
    "input()"
   ]
  },
  {
   "cell_type": "code",
   "execution_count": 17,
   "id": "c29d23f8",
   "metadata": {},
   "outputs": [
    {
     "data": {
      "text/plain": [
       "'/home/rahul/Python Run'"
      ]
     },
     "execution_count": 17,
     "metadata": {},
     "output_type": "execute_result"
    }
   ],
   "source": [
    "pwd"
   ]
  },
  {
   "cell_type": "code",
   "execution_count": 18,
   "id": "02d92c12",
   "metadata": {},
   "outputs": [],
   "source": [
    "z = \"Rahul\""
   ]
  },
  {
   "cell_type": "code",
   "execution_count": 24,
   "id": "eec94dde",
   "metadata": {},
   "outputs": [
    {
     "name": "stdout",
     "output_type": "stream",
     "text": [
      "a l\n",
      "Rah\n",
      "Rahul\n"
     ]
    },
    {
     "data": {
      "text/plain": [
       "''"
      ]
     },
     "execution_count": 24,
     "metadata": {},
     "output_type": "execute_result"
    }
   ],
   "source": [
    "#index\n",
    "print(z[1],z[-1])\n",
    "\n",
    "#index out of range\n",
    "# print(z[300])\n",
    "\n",
    "#range\n",
    "print(z[0:3])\n",
    "\n",
    "#range out of range\n",
    "print(z[0:300])\n",
    "\n",
    "#traversal in negative direction\n",
    "z[-1:-4]"
   ]
  },
  {
   "cell_type": "code",
   "execution_count": 34,
   "id": "436d9f3c",
   "metadata": {},
   "outputs": [
    {
     "name": "stdout",
     "output_type": "stream",
     "text": [
      "\n",
      "uhar m\n"
     ]
    }
   ],
   "source": [
    "#understanding ranges\n",
    "str_a = \"i am rahul\"\n",
    "print(str_a[-2:2:1])\n",
    "print(str_a[-2:2:-1])"
   ]
  },
  {
   "cell_type": "code",
   "execution_count": 35,
   "id": "360a57d1",
   "metadata": {},
   "outputs": [
    {
     "data": {
      "text/plain": [
       "2"
      ]
     },
     "execution_count": 35,
     "metadata": {},
     "output_type": "execute_result"
    }
   ],
   "source": [
    "str_a.find('a')\n",
    "#tab to auto-complete\n",
    "#shift+tab to find the documentation of the function"
   ]
  },
  {
   "cell_type": "code",
   "execution_count": 39,
   "id": "4f3c9970",
   "metadata": {},
   "outputs": [
    {
     "name": "stdout",
     "output_type": "stream",
     "text": [
      "<class 'list'>\n",
      "R\n",
      "A\n",
      "H\n",
      "U\n",
      "L\n"
     ]
    }
   ],
   "source": [
    "#LIST\n",
    "\n",
    "l = [\"Rahul\", 123, 1+2j, True, 1.2]\n",
    "print(type(l))\n",
    "for i in l[0].upper():print(i)\n",
    "\n",
    "#Individual functions of the values are refelected when trying to access them in the list"
   ]
  },
  {
   "cell_type": "code",
   "execution_count": 41,
   "id": "0a91f436",
   "metadata": {},
   "outputs": [
    {
     "name": "stdout",
     "output_type": "stream",
     "text": [
      "['deo', 123]\n"
     ]
    }
   ],
   "source": [
    "s = ['rahul', 123]\n",
    "s[0]='deo'\n",
    "print(s)"
   ]
  },
  {
   "cell_type": "code",
   "execution_count": 45,
   "id": "c92c58f9",
   "metadata": {},
   "outputs": [
    {
     "name": "stdout",
     "output_type": "stream",
     "text": [
      "['seo', 123]\n"
     ]
    }
   ],
   "source": [
    "s[0]=s[0].replace('d','s')\n",
    "print(s)"
   ]
  }
 ],
 "metadata": {
  "kernelspec": {
   "display_name": "Python 3 (ipykernel)",
   "language": "python",
   "name": "python3"
  },
  "language_info": {
   "codemirror_mode": {
    "name": "ipython",
    "version": 3
   },
   "file_extension": ".py",
   "mimetype": "text/x-python",
   "name": "python",
   "nbconvert_exporter": "python",
   "pygments_lexer": "ipython3",
   "version": "3.9.7"
  }
 },
 "nbformat": 4,
 "nbformat_minor": 5
}
