{
 "cells": [
  {
   "cell_type": "raw",
   "id": "1983aeec",
   "metadata": {},
   "source": [
    "Classes and Objects:\n",
    "Classes : Blueprint\n",
    "Objects : Entities"
   ]
  },
  {
   "cell_type": "raw",
   "id": "a866430b",
   "metadata": {},
   "source": [
    "function name starting and ending with a double underscore is a in-built functio\n",
    "example : def __init__:"
   ]
  },
  {
   "cell_type": "raw",
   "id": "4b756a87",
   "metadata": {},
   "source": [
    "__init__ is a basic function that passes information to the class"
   ]
  },
  {
   "cell_type": "code",
   "execution_count": 2,
   "id": "f78b4e51",
   "metadata": {},
   "outputs": [],
   "source": [
    "class student:\n",
    "    def __init__(self, name, dept, year):\n",
    "        self.name = name\n",
    "        self.dept = dept\n",
    "        self.year = year\n",
    "        \n",
    "    def detail(self):\n",
    "        print(self.name, self.dept, self.year)\n",
    "\n",
    "Rahul = student('Rahul','ECE', 2020)"
   ]
  },
  {
   "cell_type": "code",
   "execution_count": 3,
   "id": "174cddc3",
   "metadata": {},
   "outputs": [
    {
     "name": "stdout",
     "output_type": "stream",
     "text": [
      "Rahul ECE 2020\n"
     ]
    }
   ],
   "source": [
    "Rahul.detail()"
   ]
  },
  {
   "cell_type": "code",
   "execution_count": 60,
   "id": "068fec9c",
   "metadata": {},
   "outputs": [
    {
     "name": "stdout",
     "output_type": "stream",
     "text": [
      "Enter 1 to continue and 0 to stop : 1\n",
      "Enter the dictionary{'name':'rahul', 'surname':'deo'}\n",
      "Choose one of the options :\n",
      "1. Print keys\n",
      "2. Print values\n",
      "3.Fetch value for a key\n",
      "4.Insert a key value pair\n",
      "5.Display Dictionary\n",
      "6.Enter 0 to exit\n",
      "\n",
      "0\n",
      "Enter 1 to continue and 0 to stop : 0\n"
     ]
    }
   ],
   "source": [
    "class dictionary:\n",
    "    \n",
    "    def __init__(self, dic):\n",
    "        self.dic = dic\n",
    "        \n",
    "    def check(self):\n",
    "        if(type(self.dic) != dict):\n",
    "            return \"Enter dictionary\"\n",
    "        else:\n",
    "            return True\n",
    "    \n",
    "    def keys(self):\n",
    "        print(self.dic.keys())\n",
    "        \n",
    "    def values(self):\n",
    "        print(self.dic.values())\n",
    "        \n",
    "    def op(self, key):\n",
    "        print(self.dic.get(key))\n",
    "        \n",
    "    def append(self, inp):\n",
    "        self.dic.update(inp)\n",
    "        \n",
    "    def disp(self):\n",
    "        print(self.dic)\n",
    "\n",
    "def function():\n",
    "    a = dictionary(eval(input('Enter the dictionary')))\n",
    "    while(a.check()):\n",
    "        print(\"Choose one of the options :\")\n",
    "        print(\"1. Print keys\\n2. Print values\\n3.Fetch value for a key\\n4.Insert a key value pair\\n5.Display Dictionary\\n6.Enter 0 to exit\\n\")\n",
    "        inp = int(input())\n",
    "        while(inp): \n",
    "            if(type(inp)==int):\n",
    "                if(inp == 1):\n",
    "                    a.keys()\n",
    "                    break\n",
    "                elif(inp == 2):\n",
    "                    a.values()\n",
    "                    break\n",
    "                elif(inp == 3):\n",
    "                    a.op(input('enter the key:'))\n",
    "                    break\n",
    "                elif(inp == 4):\n",
    "                    a.append(eval(input(\"enter the key value pairs\")))\n",
    "                    break\n",
    "                elif(inp == 5):\n",
    "                    a.disp()    \n",
    "                    break\n",
    "            else:\n",
    "                print('enter integer as input')\n",
    "                \n",
    "        break\n",
    "\n",
    "user = 1\n",
    "while(user != 0):\n",
    "    user = int(input(\"Enter 1 to continue and 0 to stop : \"))\n",
    "    if(user == 1):\n",
    "        function()\n",
    "    "
   ]
  },
  {
   "cell_type": "code",
   "execution_count": null,
   "id": "a23e1c06",
   "metadata": {},
   "outputs": [],
   "source": [
    "a = {'name':'rahul', 'surname':'deo'}\n",
    "a.fromkeys()"
   ]
  }
 ],
 "metadata": {
  "kernelspec": {
   "display_name": "Python 3 (ipykernel)",
   "language": "python",
   "name": "python3"
  },
  "language_info": {
   "codemirror_mode": {
    "name": "ipython",
    "version": 3
   },
   "file_extension": ".py",
   "mimetype": "text/x-python",
   "name": "python",
   "nbconvert_exporter": "python",
   "pygments_lexer": "ipython3",
   "version": "3.9.7"
  }
 },
 "nbformat": 4,
 "nbformat_minor": 5
}
