{
 "cells": [
  {
   "cell_type": "raw",
   "id": "03fc1fa3",
   "metadata": {},
   "source": [
    "a  k  h  i  l  a\n",
    "0  1  2  3  4  5\n",
    "-6 -5 -4 -3 -2 -1"
   ]
  },
  {
   "cell_type": "code",
   "execution_count": 4,
   "id": "4301b254",
   "metadata": {},
   "outputs": [
    {
     "name": "stdout",
     "output_type": "stream",
     "text": [
      "\n"
     ]
    }
   ],
   "source": [
    "str_a = 'akhila'\n",
    "print(str_a[-2:2:1])"
   ]
  },
  {
   "cell_type": "code",
   "execution_count": 14,
   "id": "4ef15d8f",
   "metadata": {},
   "outputs": [
    {
     "name": "stdout",
     "output_type": "stream",
     "text": [
      "akhila\n"
     ]
    }
   ],
   "source": [
    "print(str_a[0:])"
   ]
  },
  {
   "cell_type": "code",
   "execution_count": 9,
   "id": "169b4d6d",
   "metadata": {},
   "outputs": [
    {
     "name": "stdout",
     "output_type": "stream",
     "text": [
      "\n"
     ]
    }
   ],
   "source": [
    "print(str_a[-2:2])"
   ]
  },
  {
   "cell_type": "code",
   "execution_count": 17,
   "id": "3afa6b3c",
   "metadata": {},
   "outputs": [
    {
     "name": "stdout",
     "output_type": "stream",
     "text": [
      "Rah\n",
      "3\n"
     ]
    }
   ],
   "source": [
    "l = [\"Rahul\", 123, 1+2j, True, 1.2,[1,2,3]]\n",
    "print(l[0][0:3])\n",
    "print(l[5][2])"
   ]
  },
  {
   "cell_type": "code",
   "execution_count": 21,
   "id": "f2ddf559",
   "metadata": {},
   "outputs": [
    {
     "ename": "AttributeError",
     "evalue": "'str' object has no attribute 'camelcase'",
     "output_type": "error",
     "traceback": [
      "\u001b[0;31m---------------------------------------------------------------------------\u001b[0m",
      "\u001b[0;31mAttributeError\u001b[0m                            Traceback (most recent call last)",
      "\u001b[0;32m/tmp/ipykernel_581413/4182674253.py\u001b[0m in \u001b[0;36m<module>\u001b[0;34m\u001b[0m\n\u001b[1;32m      3\u001b[0m \u001b[0;31m# st.lower()\u001b[0m\u001b[0;34m\u001b[0m\u001b[0;34m\u001b[0m\u001b[0m\n\u001b[1;32m      4\u001b[0m \u001b[0;31m# st.capitalize()\u001b[0m\u001b[0;34m\u001b[0m\u001b[0;34m\u001b[0m\u001b[0m\n\u001b[0;32m----> 5\u001b[0;31m \u001b[0mprint\u001b[0m\u001b[0;34m(\u001b[0m\u001b[0mst\u001b[0m\u001b[0;34m.\u001b[0m\u001b[0mcamelcase\u001b[0m\u001b[0;34m(\u001b[0m\u001b[0;34m)\u001b[0m\u001b[0;34m)\u001b[0m\u001b[0;34m\u001b[0m\u001b[0;34m\u001b[0m\u001b[0m\n\u001b[0m",
      "\u001b[0;31mAttributeError\u001b[0m: 'str' object has no attribute 'camelcase'"
     ]
    }
   ],
   "source": [
    "st = 'akhila is my name'\n",
    "# st.upper()\n",
    "# st.lower()\n",
    "# st.capitalize()\n",
    "print(st.)\n"
   ]
  },
  {
   "cell_type": "code",
   "execution_count": 24,
   "id": "cf8fbbb1",
   "metadata": {},
   "outputs": [
    {
     "data": {
      "text/plain": [
       "set"
      ]
     },
     "execution_count": 24,
     "metadata": {},
     "output_type": "execute_result"
    }
   ],
   "source": [
    "# t1 = ([1,2,3,4],'deo',1+2j)\n",
    "type({1})"
   ]
  },
  {
   "cell_type": "code",
   "execution_count": 29,
   "id": "ba879cf7",
   "metadata": {},
   "outputs": [
    {
     "data": {
      "text/plain": [
       "dict_keys"
      ]
     },
     "execution_count": 29,
     "metadata": {},
     "output_type": "execute_result"
    }
   ],
   "source": [
    "d = {'key1':123, 'key2':456, 'key3':789, 'key4':[1,2,3,4], 'key5':'rahul'}\n",
    "type(d.keys())"
   ]
  },
  {
   "cell_type": "code",
   "execution_count": 5,
   "id": "7615e714",
   "metadata": {},
   "outputs": [
    {
     "name": "stdout",
     "output_type": "stream",
     "text": [
      "rahul\n"
     ]
    },
    {
     "ename": "ValueError",
     "evalue": "invalid literal for int() with base 10: 'rahul'",
     "output_type": "error",
     "traceback": [
      "\u001b[0;31m---------------------------------------------------------------------------\u001b[0m",
      "\u001b[0;31mValueError\u001b[0m                                Traceback (most recent call last)",
      "\u001b[0;32m/tmp/ipykernel_141575/2305843072.py\u001b[0m in \u001b[0;36m<module>\u001b[0;34m\u001b[0m\n\u001b[0;32m----> 1\u001b[0;31m \u001b[0ma\u001b[0m \u001b[0;34m=\u001b[0m \u001b[0mint\u001b[0m\u001b[0;34m(\u001b[0m\u001b[0minput\u001b[0m\u001b[0;34m(\u001b[0m\u001b[0;34m)\u001b[0m\u001b[0;34m)\u001b[0m\u001b[0;34m\u001b[0m\u001b[0;34m\u001b[0m\u001b[0m\n\u001b[0m",
      "\u001b[0;31mValueError\u001b[0m: invalid literal for int() with base 10: 'rahul'"
     ]
    }
   ],
   "source": [
    "a = int(input())"
   ]
  },
  {
   "cell_type": "code",
   "execution_count": 4,
   "id": "269a2bb3",
   "metadata": {},
   "outputs": [
    {
     "data": {
      "text/plain": [
       "int"
      ]
     },
     "execution_count": 4,
     "metadata": {},
     "output_type": "execute_result"
    }
   ],
   "source": [
    "type(a)"
   ]
  },
  {
   "cell_type": "code",
   "execution_count": 4,
   "id": "00f4d705",
   "metadata": {},
   "outputs": [
    {
     "name": "stdout",
     "output_type": "stream",
     "text": [
      "Hello World\n"
     ]
    }
   ],
   "source": [
    "class Student:\n",
    "    def __init__(self, name, age):\n",
    "        self.name = name\n",
    "        self.age = age\n",
    "    \n",
    "    def out(self):\n",
    "        print(self.name)\n",
    "     \n",
    "    @staticmethod\n",
    "    def inp():\n",
    "        print(\"Hello World\")\n",
    "        \n",
    "deo = Student('RAhul', 22)\n",
    "deo.inp()"
   ]
  },
  {
   "cell_type": "code",
   "execution_count": 5,
   "id": "2a58c276",
   "metadata": {},
   "outputs": [
    {
     "ename": "NameError",
     "evalue": "name 'my_decorator' is not defined",
     "output_type": "error",
     "traceback": [
      "\u001b[0;31m---------------------------------------------------------------------------\u001b[0m",
      "\u001b[0;31mNameError\u001b[0m                                 Traceback (most recent call last)",
      "\u001b[0;32m/tmp/ipykernel_604878/2877300061.py\u001b[0m in \u001b[0;36m<module>\u001b[0;34m\u001b[0m\n\u001b[0;32m----> 1\u001b[0;31m \u001b[0;32mclass\u001b[0m \u001b[0mStudent\u001b[0m\u001b[0;34m:\u001b[0m\u001b[0;34m\u001b[0m\u001b[0;34m\u001b[0m\u001b[0m\n\u001b[0m\u001b[1;32m      2\u001b[0m     \u001b[0;32mdef\u001b[0m \u001b[0m__init__\u001b[0m\u001b[0;34m(\u001b[0m\u001b[0mself\u001b[0m\u001b[0;34m,\u001b[0m \u001b[0mname\u001b[0m\u001b[0;34m,\u001b[0m \u001b[0mage\u001b[0m\u001b[0;34m)\u001b[0m\u001b[0;34m:\u001b[0m\u001b[0;34m\u001b[0m\u001b[0;34m\u001b[0m\u001b[0m\n\u001b[1;32m      3\u001b[0m         \u001b[0mself\u001b[0m\u001b[0;34m.\u001b[0m\u001b[0mname\u001b[0m \u001b[0;34m=\u001b[0m \u001b[0mname\u001b[0m\u001b[0;34m\u001b[0m\u001b[0;34m\u001b[0m\u001b[0m\n\u001b[1;32m      4\u001b[0m         \u001b[0mself\u001b[0m\u001b[0;34m.\u001b[0m\u001b[0mage\u001b[0m \u001b[0;34m=\u001b[0m \u001b[0mage\u001b[0m\u001b[0;34m\u001b[0m\u001b[0;34m\u001b[0m\u001b[0m\n\u001b[1;32m      5\u001b[0m \u001b[0;34m\u001b[0m\u001b[0m\n",
      "\u001b[0;32m/tmp/ipykernel_604878/2877300061.py\u001b[0m in \u001b[0;36mStudent\u001b[0;34m()\u001b[0m\n\u001b[1;32m      7\u001b[0m         \u001b[0mprint\u001b[0m\u001b[0;34m(\u001b[0m\u001b[0mself\u001b[0m\u001b[0;34m.\u001b[0m\u001b[0mname\u001b[0m\u001b[0;34m)\u001b[0m\u001b[0;34m\u001b[0m\u001b[0;34m\u001b[0m\u001b[0m\n\u001b[1;32m      8\u001b[0m \u001b[0;34m\u001b[0m\u001b[0m\n\u001b[0;32m----> 9\u001b[0;31m     \u001b[0;34m@\u001b[0m\u001b[0mmy_decorator\u001b[0m\u001b[0;34m\u001b[0m\u001b[0;34m\u001b[0m\u001b[0m\n\u001b[0m\u001b[1;32m     10\u001b[0m     \u001b[0;32mdef\u001b[0m \u001b[0mname\u001b[0m\u001b[0;34m(\u001b[0m\u001b[0mself\u001b[0m\u001b[0;34m)\u001b[0m\u001b[0;34m:\u001b[0m\u001b[0;34m\u001b[0m\u001b[0;34m\u001b[0m\u001b[0m\n\u001b[1;32m     11\u001b[0m         \u001b[0mprint\u001b[0m\u001b[0;34m(\u001b[0m\u001b[0mself\u001b[0m\u001b[0;34m.\u001b[0m\u001b[0mname\u001b[0m\u001b[0;34m)\u001b[0m\u001b[0;34m\u001b[0m\u001b[0;34m\u001b[0m\u001b[0m\n",
      "\u001b[0;31mNameError\u001b[0m: name 'my_decorator' is not defined"
     ]
    }
   ],
   "source": [
    "class Student:\n",
    "    def __init__(self, name, age):\n",
    "        self.name = name\n",
    "        self.age = age\n",
    "    \n",
    "    def out(self):\n",
    "        print(self.name)\n",
    "    \n",
    "    @my_decorator\n",
    "    def name(self):\n",
    "        print(self.name)\n",
    "        \n",
    "    def age(self):\n",
    "        print(self.age)\n",
    "    \n",
    "     \n",
    "#     @staticmethod\n",
    "    def inp():\n",
    "        print(\"Hello World\")\n",
    "        \n",
    "deo = Student('RAhul', 22)\n",
    "deo.inp()\n"
   ]
  },
  {
   "cell_type": "code",
   "execution_count": 7,
   "id": "31ee39a3",
   "metadata": {},
   "outputs": [
    {
     "name": "stdout",
     "output_type": "stream",
     "text": [
      "(1, 2, 3, [1, 23, 45], 'rahul')\n",
      "{'a': 10, 'b': 20, 'c': 30}\n"
     ]
    }
   ],
   "source": [
    "def arg(*args):\n",
    "    print(args)\n",
    "\n",
    "def kwarg(**kwargs):\n",
    "    print(kwargs)\n",
    "    \n",
    "arg(1,2,3,[1,23,45],'rahul')\n",
    "kwarg(a=10,b=20,c=30)"
   ]
  },
  {
   "cell_type": "code",
   "execution_count": 8,
   "id": "12bb8a0f",
   "metadata": {},
   "outputs": [
    {
     "name": "stdout",
     "output_type": "stream",
     "text": [
      "(10,) {}\n"
     ]
    }
   ],
   "source": [
    "def inp(*args, **kwargs):\n",
    "    print(args, kwargs)\n",
    "    \n",
    "inp(10)"
   ]
  },
  {
   "cell_type": "code",
   "execution_count": 1,
   "id": "d032109a",
   "metadata": {},
   "outputs": [
    {
     "name": "stdout",
     "output_type": "stream",
     "text": [
      "[1,2,3,4]\n",
      "3\n",
      "[1, 2, 3, 4] 3\n"
     ]
    }
   ],
   "source": [
    "lis = eval(input())\n",
    "target = input()\n",
    "# print(lis, target)\n"
   ]
  },
  {
   "cell_type": "code",
   "execution_count": 9,
   "id": "5cc4f0eb",
   "metadata": {},
   "outputs": [],
   "source": [
    "class web():\n",
    "    def test():\n",
    "        pass       \n",
    "    \n",
    "    def prof():\n",
    "        pass\n",
    "    def stat():\n",
    "        pass\n",
    "    \n",
    "test()"
   ]
  },
  {
   "cell_type": "code",
   "execution_count": 21,
   "id": "45c41d1f",
   "metadata": {},
   "outputs": [
    {
     "name": "stdout",
     "output_type": "stream",
     "text": [
      "* * * * * \r\n",
      "* * * * * \r\n",
      "* * A * * \r\n",
      "* * * * * \r\n",
      "* * * * * \r\n"
     ]
    }
   ],
   "source": [
    "for i in range(5):\n",
    "    for j in range(0,i+1):\n",
    "        if i==j==2:\n",
    "            print('A',end =' ')\n",
    "        else:\n",
    "            print('*',end=' ')\n",
    "    print('\\r')\n",
    "#     print(i)"
   ]
  },
  {
   "cell_type": "code",
   "execution_count": null,
   "id": "e70f9c8a",
   "metadata": {},
   "outputs": [],
   "source": [
    "*       *\n",
    "      * *\n",
    "    * * *\n",
    "  * * * *\n",
    "* * * * * \n",
    "00,01,02,03\n",
    "10,11,12\n",
    "20,21\n",
    "30"
   ]
  },
  {
   "cell_type": "code",
   "execution_count": 24,
   "id": "4e293f51",
   "metadata": {},
   "outputs": [
    {
     "name": "stdout",
     "output_type": "stream",
     "text": [
      "        a \r\n",
      "      b c \r\n",
      "    d e f \r\n",
      "  g h i j \r\n",
      "k l m n o \r\n"
     ]
    }
   ],
   "source": [
    "s = 'abcdefghijklmno'\n",
    "count = 4\n",
    "ant = 0\n",
    "for i in range(5):\n",
    "    for j in range(5):\n",
    "        if j<count:\n",
    "            print(' ',end=' ')\n",
    "        else:\n",
    "            print('{}'.format(s[ant]),end=' ')\n",
    "            ant+=1\n",
    "    count-=1\n",
    "    print('\\r')"
   ]
  },
  {
   "cell_type": "code",
   "execution_count": 38,
   "id": "b0d4382d",
   "metadata": {},
   "outputs": [
    {
     "name": "stdout",
     "output_type": "stream",
     "text": [
      "42\n"
     ]
    }
   ],
   "source": [
    "print(str('42'))"
   ]
  },
  {
   "cell_type": "code",
   "execution_count": 4,
   "id": "944ec568",
   "metadata": {},
   "outputs": [
    {
     "name": "stdout",
     "output_type": "stream",
     "text": [
      " rahul akhila\n"
     ]
    }
   ],
   "source": [
    "a = ' rahul akhila '\n",
    "print(a.rstrip())"
   ]
  },
  {
   "cell_type": "code",
   "execution_count": 6,
   "id": "79fc51b2",
   "metadata": {},
   "outputs": [
    {
     "name": "stdout",
     "output_type": "stream",
     "text": [
      "thaugf;\n"
     ]
    },
    {
     "ename": "TypeError",
     "evalue": "str_vowel() missing 1 required positional argument: 'name'",
     "output_type": "error",
     "traceback": [
      "\u001b[0;31m---------------------------------------------------------------------------\u001b[0m",
      "\u001b[0;31mTypeError\u001b[0m                                 Traceback (most recent call last)",
      "\u001b[0;32m/tmp/ipykernel_1203823/2069535530.py\u001b[0m in \u001b[0;36m<module>\u001b[0;34m\u001b[0m\n\u001b[1;32m     13\u001b[0m \u001b[0;34m\u001b[0m\u001b[0m\n\u001b[1;32m     14\u001b[0m \u001b[0mstring\u001b[0m \u001b[0;34m=\u001b[0m \u001b[0minput\u001b[0m\u001b[0;34m(\u001b[0m\u001b[0;34m)\u001b[0m\u001b[0;34m\u001b[0m\u001b[0;34m\u001b[0m\u001b[0m\n\u001b[0;32m---> 15\u001b[0;31m \u001b[0mstr_vowel\u001b[0m\u001b[0;34m(\u001b[0m\u001b[0;34m)\u001b[0m\u001b[0;34m\u001b[0m\u001b[0;34m\u001b[0m\u001b[0m\n\u001b[0m",
      "\u001b[0;31mTypeError\u001b[0m: str_vowel() missing 1 required positional argument: 'name'"
     ]
    }
   ],
   "source": [
    "def str_vowel(name):\n",
    "#         name = ' rahul deo '\n",
    "\n",
    "        vowel = 'AaEeIiOoUu'\n",
    "        alpha = 'abcdefghijklmnopqrstuvwxyz'\n",
    "        for i in name:\n",
    "            if i in vowel and i in alpha:\n",
    "                print('{} is vowel'.format(i))\n",
    "            elif i in alpha:\n",
    "                print('{} is not a vowel'.format(i))\n",
    "            else:\n",
    "                continue\n",
    "\n",
    "string = input()\n",
    "str_vowel()"
   ]
  },
  {
   "cell_type": "code",
   "execution_count": 7,
   "id": "de55a53b",
   "metadata": {},
   "outputs": [
    {
     "name": "stdout",
     "output_type": "stream",
     "text": [
      "rhaul is a string\n"
     ]
    },
    {
     "data": {
      "text/plain": [
       "' program ends '"
      ]
     },
     "execution_count": 7,
     "metadata": {},
     "output_type": "execute_result"
    }
   ],
   "source": [
    "def pri(stri):\n",
    "    print('{} is a string'.format(stri))\n",
    "    return ' program ends '\n",
    "    print('HI')\n",
    "\n",
    "pri('rhaul')"
   ]
  },
  {
   "cell_type": "code",
   "execution_count": 12,
   "id": "6877c0de",
   "metadata": {},
   "outputs": [
    {
     "name": "stdout",
     "output_type": "stream",
     "text": [
      "<class 'str'>\n",
      "r\n",
      "a\n",
      "h\n",
      "u\n",
      "l\n"
     ]
    }
   ],
   "source": [
    "def st(name):\n",
    "    return name\n",
    "print(type(st('deo')))\n",
    "for i in st('rahul'):\n",
    "    print(i)"
   ]
  },
  {
   "cell_type": "code",
   "execution_count": 13,
   "id": "e422ef69",
   "metadata": {},
   "outputs": [
    {
     "name": "stdout",
     "output_type": "stream",
     "text": [
      "1\n",
      "(2+3j)\n",
      "deo\n",
      "[1, 2, 3]\n"
     ]
    }
   ],
   "source": [
    "def test2():\n",
    "    return 1, 2+3j, 'deo', [1,2,3]\n",
    "\n",
    "for i in test2():\n",
    "    print(i)"
   ]
  },
  {
   "cell_type": "code",
   "execution_count": null,
   "id": "85ad6085",
   "metadata": {},
   "outputs": [],
   "source": []
  }
 ],
 "metadata": {
  "kernelspec": {
   "display_name": "Python 3 (ipykernel)",
   "language": "python",
   "name": "python3"
  },
  "language_info": {
   "codemirror_mode": {
    "name": "ipython",
    "version": 3
   },
   "file_extension": ".py",
   "mimetype": "text/x-python",
   "name": "python",
   "nbconvert_exporter": "python",
   "pygments_lexer": "ipython3",
   "version": "3.9.7"
  }
 },
 "nbformat": 4,
 "nbformat_minor": 5
}
