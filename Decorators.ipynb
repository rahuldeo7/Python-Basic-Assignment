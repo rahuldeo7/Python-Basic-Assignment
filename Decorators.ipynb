{
 "cells": [
  {
   "cell_type": "raw",
   "id": "9bf6c1a4",
   "metadata": {},
   "source": [
    "Decorators\n",
    "-> Enables the user to change the functionality of the function or class, in terms of the actual behaviour\n",
    "https://www.geeksforgeeks.org/decorators-in-python/"
   ]
  },
  {
   "cell_type": "raw",
   "id": "cce6e5df",
   "metadata": {},
   "source": [
    "Treating functions as objects"
   ]
  },
  {
   "cell_type": "code",
   "execution_count": 9,
   "id": "4f9f507b",
   "metadata": {},
   "outputs": [
    {
     "name": "stdout",
     "output_type": "stream",
     "text": [
      "DEO\n",
      "DEO\n"
     ]
    }
   ],
   "source": [
    "def dec(text):\n",
    "    return text.upper()\n",
    "\n",
    "print(dec('deo'))\n",
    "giv = dec\n",
    "print(giv('deo'))"
   ]
  },
  {
   "cell_type": "raw",
   "id": "a4117afa",
   "metadata": {},
   "source": [
    "Passing function as an argument"
   ]
  },
  {
   "cell_type": "code",
   "execution_count": 12,
   "id": "d165c7f0",
   "metadata": {},
   "outputs": [
    {
     "name": "stdout",
     "output_type": "stream",
     "text": [
      "HI HOW ARE YOU RAHUL DEO\n",
      "hi how are you rahul deo\n"
     ]
    }
   ],
   "source": [
    "def upper(text):\n",
    "    return text.upper()\n",
    "\n",
    "def lower(text):\n",
    "    return text.lower()\n",
    "\n",
    "def greeting(func):\n",
    "    return func('Hi how are you Rahul Deo')\n",
    "\n",
    "print(greeting(upper))\n",
    "print(greeting(lower))"
   ]
  },
  {
   "cell_type": "raw",
   "id": "8cacc04b",
   "metadata": {},
   "source": [
    "Returning function from another function"
   ]
  },
  {
   "cell_type": "code",
   "execution_count": 2,
   "id": "737dec3d",
   "metadata": {},
   "outputs": [
    {
     "name": "stdout",
     "output_type": "stream",
     "text": [
      "25\n"
     ]
    }
   ],
   "source": [
    "def create_adder(x):\n",
    "    def adder(y):\n",
    "        return x+y\n",
    " \n",
    "    return adder\n",
    " \n",
    "add_15 = create_adder(15)\n",
    " \n",
    "print(add_15(10))"
   ]
  },
  {
   "cell_type": "code",
   "execution_count": 3,
   "id": "5f2f83f6",
   "metadata": {},
   "outputs": [
    {
     "name": "stdout",
     "output_type": "stream",
     "text": [
      "25\n"
     ]
    }
   ],
   "source": [
    "print(create_adder(15)(10))"
   ]
  },
  {
   "cell_type": "code",
   "execution_count": null,
   "id": "c9958aee",
   "metadata": {},
   "outputs": [],
   "source": []
  }
 ],
 "metadata": {
  "kernelspec": {
   "display_name": "Python 3 (ipykernel)",
   "language": "python",
   "name": "python3"
  },
  "language_info": {
   "codemirror_mode": {
    "name": "ipython",
    "version": 3
   },
   "file_extension": ".py",
   "mimetype": "text/x-python",
   "name": "python",
   "nbconvert_exporter": "python",
   "pygments_lexer": "ipython3",
   "version": "3.9.7"
  }
 },
 "nbformat": 4,
 "nbformat_minor": 5
}
