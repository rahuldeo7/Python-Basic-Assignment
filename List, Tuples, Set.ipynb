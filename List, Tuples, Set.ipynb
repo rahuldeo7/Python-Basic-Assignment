{
 "cells": [
  {
   "cell_type": "code",
   "execution_count": 10,
   "id": "48724aad",
   "metadata": {},
   "outputs": [
    {
     "name": "stdout",
     "output_type": "stream",
     "text": [
      "<class 'list'> ['rahul', 123, True, 1.2, (1+2j), [1, 2, 3, 4], 1, 2, 3, 4]\n"
     ]
    }
   ],
   "source": [
    "#LIST\n",
    "\n",
    "l = ['rahul',123,True,1.2,1+2j]\n",
    "l.append([1,2,3,4])\n",
    "l.extend([1,2,3,4])\n",
    "# l[0]='deo' #list is mutable\n",
    "print(type(l),l)"
   ]
  },
  {
   "cell_type": "code",
   "execution_count": 1,
   "id": "a3177020",
   "metadata": {},
   "outputs": [
    {
     "name": "stdout",
     "output_type": "stream",
     "text": [
      "<class 'tuple'> ('rahul', 123, True, 1.2, (1+2j)) ([1, 2, 3, 4], 'deo', (1+2j))\n"
     ]
    }
   ],
   "source": [
    "#TUPLES\n",
    "\n",
    "t = ('rahul',123,True,1.2,1+2j)\n",
    "# t[0]='deo' #list is immutable\n",
    "\n",
    "#tuple has two function count and index\n",
    "#tuple can contain any data type of data set so can lists\n",
    "t1 = ([1,2,3,4],'deo',1+2j)\n",
    "print(type(t),t,t1)"
   ]
  },
  {
   "cell_type": "code",
   "execution_count": 15,
   "id": "54a2a75f",
   "metadata": {},
   "outputs": [
    {
     "name": "stdout",
     "output_type": "stream",
     "text": [
      "{1, 2, 3, 4, 5, 6, 7, 8, 9}\n",
      "<class 'dict'>\n",
      "<class 'set'>\n"
     ]
    }
   ],
   "source": [
    "#SET\n",
    "l1 = [1,2,3,4,5,6,7,8,9,1,2,3,4,5,6,7,8,9,1,2,3,4,5,6,7,8,9]\n",
    "print(set(l1))\n",
    "#set prints unique elements available to us\n",
    "# notation - {}\n",
    "s ={}\n",
    "s1 ={1,2,3}\n",
    "print(type(s)) # - empty set is a dictionary\n",
    "print(type(s1))\n",
    "\n",
    "#set can consist of tuples but not lists \n",
    "#lists can comprise of mutable data sets"
   ]
  },
  {
   "cell_type": "code",
   "execution_count": 14,
   "id": "ecf87b84",
   "metadata": {},
   "outputs": [
    {
     "name": "stdout",
     "output_type": "stream",
     "text": [
      "123\n",
      "4\n",
      "dict_items([('key1', 123), ('key2', 456), ('key3', 789), ('key4', [1, 2, 3, 4]), ('key5', 'rahul')])\n",
      "{1: (4, 5, 6, 7), 2: (4, 5, 6, 7), 3: (4, 5, 6, 7), 4: (4, 5, 6, 7)}\n"
     ]
    }
   ],
   "source": [
    "#DICTIONARY\n",
    "d = {'key1':123, 'key2':456, 'key3':789, 'key4':[1,2,3,4], 'key5':'rahul'}\n",
    "print(d['key1'])\n",
    "#key cannot be a special charachter\n",
    "#value can be of any data type including set, tuples etc. \n",
    "\n",
    "d1 = {1 : 1, 2:2, 3:3, 1:4}\n",
    "print(d1[1])\n",
    "\n",
    "print(d.items()) #key and values are in list as tuples\n",
    "z={}\n",
    "y = (1,2,3,4)\n",
    "y1 = (4,5,6,7)\n",
    "z = z.fromkeys(y,y1)\n",
    "print(z)\n"
   ]
  },
  {
   "cell_type": "code",
   "execution_count": 8,
   "id": "7cd41096",
   "metadata": {},
   "outputs": [
    {
     "name": "stdout",
     "output_type": "stream",
     "text": [
      "{2, 3, 4, 7, 8, 9, 'deo', 'rahul'}\n"
     ]
    }
   ],
   "source": [
    "#SET is a unordered list, try printing in for loop to understand\n",
    "lst = [9,'rahul','rahul',9,9,8,'deo','deo',8,7,4,3,2]\n",
    "print(set(lst))\n"
   ]
  },
  {
   "cell_type": "code",
   "execution_count": null,
   "id": "0223c9e6",
   "metadata": {},
   "outputs": [],
   "source": []
  }
 ],
 "metadata": {
  "kernelspec": {
   "display_name": "Python 3 (ipykernel)",
   "language": "python",
   "name": "python3"
  },
  "language_info": {
   "codemirror_mode": {
    "name": "ipython",
    "version": 3
   },
   "file_extension": ".py",
   "mimetype": "text/x-python",
   "name": "python",
   "nbconvert_exporter": "python",
   "pygments_lexer": "ipython3",
   "version": "3.9.7"
  }
 },
 "nbformat": 4,
 "nbformat_minor": 5
}
