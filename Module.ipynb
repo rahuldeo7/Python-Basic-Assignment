{
 "cells": [
  {
   "cell_type": "code",
   "execution_count": 1,
   "id": "cd1fe13d",
   "metadata": {},
   "outputs": [
    {
     "data": {
      "text/plain": [
       "'/home/rahul/Python Run'"
      ]
     },
     "execution_count": 1,
     "metadata": {},
     "output_type": "execute_result"
    }
   ],
   "source": [
    "pwd"
   ]
  },
  {
   "cell_type": "code",
   "execution_count": null,
   "id": "030e6a16",
   "metadata": {},
   "outputs": [],
   "source": [
    "import mathe\n",
    "mathe.add(1,2)\n",
    "mathe.sub(2,1)"
   ]
  },
  {
   "cell_type": "code",
   "execution_count": 3,
   "id": "d6868117",
   "metadata": {},
   "outputs": [
    {
     "data": {
      "text/plain": [
       "3"
      ]
     },
     "execution_count": 3,
     "metadata": {},
     "output_type": "execute_result"
    }
   ],
   "source": [
    "from mathe import *\n",
    "add(1,2)"
   ]
  },
  {
   "cell_type": "raw",
   "id": "dc013ef8",
   "metadata": {},
   "source": [
    "Module\n",
    "\n",
    "All the required definitions are made in the python file, in this case it is \"mathe\" \n",
    "--> In the first case entire module is imported and the respective functions are used as in regular case\n",
    "--> In the second case all the functions are used without mentioning the actual library. i.e : mathe.\"name\""
   ]
  },
  {
   "cell_type": "code",
   "execution_count": 2,
   "id": "af6e5ca5",
   "metadata": {},
   "outputs": [
    {
     "data": {
      "text/plain": [
       "9"
      ]
     },
     "execution_count": 2,
     "metadata": {},
     "output_type": "execute_result"
    }
   ],
   "source": [
    "import module\n",
    "module.add(4,5)"
   ]
  },
  {
   "cell_type": "code",
   "execution_count": null,
   "id": "d89737c0",
   "metadata": {},
   "outputs": [],
   "source": []
  }
 ],
 "metadata": {
  "kernelspec": {
   "display_name": "Python 3 (ipykernel)",
   "language": "python",
   "name": "python3"
  },
  "language_info": {
   "codemirror_mode": {
    "name": "ipython",
    "version": 3
   },
   "file_extension": ".py",
   "mimetype": "text/x-python",
   "name": "python",
   "nbconvert_exporter": "python",
   "pygments_lexer": "ipython3",
   "version": "3.9.7"
  }
 },
 "nbformat": 4,
 "nbformat_minor": 5
}
