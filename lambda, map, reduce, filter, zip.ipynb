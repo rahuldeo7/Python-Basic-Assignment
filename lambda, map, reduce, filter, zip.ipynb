{
 "cells": [
  {
   "cell_type": "markdown",
   "id": "101c661d",
   "metadata": {},
   "source": [
    "# Lambda"
   ]
  },
  {
   "cell_type": "code",
   "execution_count": 3,
   "id": "3ff8bcd1",
   "metadata": {},
   "outputs": [
    {
     "name": "stdout",
     "output_type": "stream",
     "text": [
      "44\n"
     ]
    }
   ],
   "source": [
    "def func(n):\n",
    "    return lambda a : a*n\n",
    "\n",
    "quad = func(4)\n",
    "print(quad(11))"
   ]
  },
  {
   "cell_type": "code",
   "execution_count": 4,
   "id": "d72e42ae",
   "metadata": {},
   "outputs": [
    {
     "name": "stdout",
     "output_type": "stream",
     "text": [
      "50\n"
     ]
    }
   ],
   "source": [
    "def func(n):\n",
    "    return lambda a: a*n\n",
    "print(func(10)(5))"
   ]
  },
  {
   "cell_type": "code",
   "execution_count": 8,
   "id": "aff8d36f",
   "metadata": {},
   "outputs": [
    {
     "data": {
      "text/plain": [
       "20"
      ]
     },
     "execution_count": 8,
     "metadata": {},
     "output_type": "execute_result"
    }
   ],
   "source": [
    "x = lambda a : a * 10\n",
    "x(2)"
   ]
  },
  {
   "cell_type": "raw",
   "id": "a613078c",
   "metadata": {},
   "source": [
    "Lambda is a function that takes in argument and returns the expression like any other function"
   ]
  },
  {
   "cell_type": "markdown",
   "id": "d053cbed",
   "metadata": {},
   "source": [
    "# Map"
   ]
  },
  {
   "cell_type": "code",
   "execution_count": 9,
   "id": "075291a6",
   "metadata": {},
   "outputs": [
    {
     "data": {
      "text/plain": [
       "[2, 4, 6, 8, 10, 12]"
      ]
     },
     "execution_count": 9,
     "metadata": {},
     "output_type": "execute_result"
    }
   ],
   "source": [
    "l = [1,2,3,4,5,6]\n",
    "list(map(lambda x : x*2, l))"
   ]
  },
  {
   "cell_type": "code",
   "execution_count": 13,
   "id": "feabd5a5",
   "metadata": {},
   "outputs": [
    {
     "data": {
      "text/plain": [
       "[1, 4, 9, 16, 25, 36]"
      ]
     },
     "execution_count": 13,
     "metadata": {},
     "output_type": "execute_result"
    }
   ],
   "source": [
    "def fun(a):\n",
    "    return a*a\n",
    "\n",
    "list(map(fun,l))"
   ]
  },
  {
   "cell_type": "code",
   "execution_count": 1,
   "id": "3bb2d9fc",
   "metadata": {},
   "outputs": [
    {
     "data": {
      "text/plain": [
       "[5, 7, 9]"
      ]
     },
     "execution_count": 1,
     "metadata": {},
     "output_type": "execute_result"
    }
   ],
   "source": [
    "list1 = [1,2,3]\n",
    "list2 = [4,5,6]\n",
    "list(map(lambda x,y : x+y, list1, list2))"
   ]
  },
  {
   "cell_type": "markdown",
   "id": "78005c6a",
   "metadata": {},
   "source": [
    "# Filter"
   ]
  },
  {
   "cell_type": "code",
   "execution_count": 3,
   "id": "75ea0bf4",
   "metadata": {},
   "outputs": [
    {
     "data": {
      "text/plain": [
       "[2]"
      ]
     },
     "execution_count": 3,
     "metadata": {},
     "output_type": "execute_result"
    }
   ],
   "source": [
    "def even(n):\n",
    "    if n%2 == 0:\n",
    "        return n\n",
    "\n",
    "list1 = [1,2,3]\n",
    "list(filter(even,list1))"
   ]
  },
  {
   "cell_type": "code",
   "execution_count": 4,
   "id": "cefcecee",
   "metadata": {},
   "outputs": [
    {
     "data": {
      "text/plain": [
       "[2, 4, 6, 8]"
      ]
     },
     "execution_count": 4,
     "metadata": {},
     "output_type": "execute_result"
    }
   ],
   "source": [
    "lis = [1,2,3,4,5,6,7,8,9]\n",
    "list(filter(lambda x : x%2 == 0, lis))"
   ]
  },
  {
   "cell_type": "code",
   "execution_count": 6,
   "id": "cc389248",
   "metadata": {},
   "outputs": [
    {
     "data": {
      "text/plain": [
       "[2, 4]"
      ]
     },
     "execution_count": 6,
     "metadata": {},
     "output_type": "execute_result"
    }
   ],
   "source": [
    "def even(n):\n",
    "    if n%2 == 0:\n",
    "        return n\n",
    "    else:\n",
    "        return False\n",
    "    \n",
    "list1 = [1,2,3,4]\n",
    "list(filter(even,list1))"
   ]
  },
  {
   "cell_type": "raw",
   "id": "f4d2f382",
   "metadata": {},
   "source": [
    "Filter allows values into list that evaluates to true"
   ]
  },
  {
   "cell_type": "markdown",
   "id": "62b7e7f5",
   "metadata": {},
   "source": [
    "# Filter"
   ]
  },
  {
   "cell_type": "code",
   "execution_count": 8,
   "id": "b451fd90",
   "metadata": {},
   "outputs": [
    {
     "data": {
      "text/plain": [
       "15"
      ]
     },
     "execution_count": 8,
     "metadata": {},
     "output_type": "execute_result"
    }
   ],
   "source": [
    "from functools import reduce\n",
    "\n",
    "def sums(a,b):\n",
    "    return a+b\n",
    "\n",
    "lis = [1,2,3,4,5]\n",
    "reduce(sums,lis)"
   ]
  },
  {
   "cell_type": "code",
   "execution_count": 9,
   "id": "79070cfb",
   "metadata": {},
   "outputs": [
    {
     "data": {
      "text/plain": [
       "15"
      ]
     },
     "execution_count": 9,
     "metadata": {},
     "output_type": "execute_result"
    }
   ],
   "source": [
    "reduce(lambda a,b : a+b , lis)"
   ]
  },
  {
   "cell_type": "code",
   "execution_count": 11,
   "id": "affa4100",
   "metadata": {},
   "outputs": [
    {
     "data": {
      "text/plain": [
       "15"
      ]
     },
     "execution_count": 11,
     "metadata": {},
     "output_type": "execute_result"
    }
   ],
   "source": [
    "sum(lis)"
   ]
  },
  {
   "cell_type": "markdown",
   "id": "4f160a1a",
   "metadata": {},
   "source": [
    "# Zip"
   ]
  },
  {
   "cell_type": "code",
   "execution_count": 12,
   "id": "08e6874f",
   "metadata": {},
   "outputs": [
    {
     "data": {
      "text/plain": [
       "[('rahul', 'deo'),\n",
       " ('jacob', 'paul'),\n",
       " ('thanuja', 'sekar'),\n",
       " ('jhony', 'davidson')]"
      ]
     },
     "execution_count": 12,
     "metadata": {},
     "output_type": "execute_result"
    }
   ],
   "source": [
    "fname = ['rahul','jacob','thanuja', 'jhony']\n",
    "lname = ['deo', 'paul', 'sekar', 'davidson']\n",
    "list(zip(fname,lname))"
   ]
  },
  {
   "cell_type": "code",
   "execution_count": null,
   "id": "df48add3",
   "metadata": {},
   "outputs": [],
   "source": []
  }
 ],
 "metadata": {
  "kernelspec": {
   "display_name": "Python 3 (ipykernel)",
   "language": "python",
   "name": "python3"
  },
  "language_info": {
   "codemirror_mode": {
    "name": "ipython",
    "version": 3
   },
   "file_extension": ".py",
   "mimetype": "text/x-python",
   "name": "python",
   "nbconvert_exporter": "python",
   "pygments_lexer": "ipython3",
   "version": "3.9.7"
  }
 },
 "nbformat": 4,
 "nbformat_minor": 5
}
