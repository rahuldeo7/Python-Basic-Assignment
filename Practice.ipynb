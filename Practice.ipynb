{
 "cells": [
  {
   "cell_type": "code",
   "execution_count": 3,
   "id": "467f8774",
   "metadata": {},
   "outputs": [
    {
     "name": "stdout",
     "output_type": "stream",
     "text": [
      "13\n"
     ]
    }
   ],
   "source": [
    "a = [1,2,3,12345678910,'rahul',2.0,[12,13]]\n",
    "print(a[6][1])"
   ]
  },
  {
   "cell_type": "code",
   "execution_count": 4,
   "id": "a2577215",
   "metadata": {},
   "outputs": [
    {
     "data": {
      "text/plain": [
       "[12, 13]"
      ]
     },
     "execution_count": 4,
     "metadata": {},
     "output_type": "execute_result"
    }
   ],
   "source": [
    "a[-1] [] list () tuple"
   ]
  },
  {
   "cell_type": "code",
   "execution_count": 11,
   "id": "15a558bd",
   "metadata": {},
   "outputs": [
    {
     "name": "stdout",
     "output_type": "stream",
     "text": [
      "{1, 2, 3, 4}\n"
     ]
    }
   ],
   "source": [
    "a = {1,2,3,1}\n",
    "a.update([1,2,3,4,2])\n",
    "print(a)"
   ]
  },
  {
   "cell_type": "code",
   "execution_count": 15,
   "id": "48a8c647",
   "metadata": {},
   "outputs": [
    {
     "name": "stdout",
     "output_type": "stream",
     "text": [
      "dict_items([(1, 'rahul'), (2, 'deo')])\n"
     ]
    }
   ],
   "source": [
    "dit = {1:'rahul', 2:'deo'}\n",
    "print(dit.items())"
   ]
  },
  {
   "cell_type": "code",
   "execution_count": 23,
   "id": "18228156",
   "metadata": {},
   "outputs": [
    {
     "name": "stdout",
     "output_type": "stream",
     "text": [
      "rahuldeo\n"
     ]
    }
   ],
   "source": [
    "deo = {\n",
    "    'name' : 'rahul',\n",
    "    'surname' : 'deo'\n",
    "}\n",
    "\n",
    "print(deo['name'] + deo['surname'])"
   ]
  },
  {
   "cell_type": "code",
   "execution_count": null,
   "id": "92e55506",
   "metadata": {},
   "outputs": [],
   "source": []
  }
 ],
 "metadata": {
  "kernelspec": {
   "display_name": "Python 3 (ipykernel)",
   "language": "python",
   "name": "python3"
  },
  "language_info": {
   "codemirror_mode": {
    "name": "ipython",
    "version": 3
   },
   "file_extension": ".py",
   "mimetype": "text/x-python",
   "name": "python",
   "nbconvert_exporter": "python",
   "pygments_lexer": "ipython3",
   "version": "3.9.7"
  }
 },
 "nbformat": 4,
 "nbformat_minor": 5
}
