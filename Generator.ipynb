{
 "cells": [
  {
   "cell_type": "markdown",
   "id": "07bd15e1",
   "metadata": {},
   "source": [
    "# Generator\n",
    "\n",
    "When the function needs to reproduce the values for other functions to use, then the data needs to be of some premtive type.\n",
    "When print fuctions are made use of they print values that are of type None. Also if they are required to be output, then they are to be stored in certain variable of types like List.\n",
    "\n",
    "That becomes a teddious job and a memory and time consuming work."
   ]
  },
  {
   "cell_type": "code",
   "execution_count": 2,
   "id": "f2028daf",
   "metadata": {},
   "outputs": [
    {
     "data": {
      "text/plain": [
       "[0, 1, 4, 9, 16, 25, 36, 49, 64, 81]"
      ]
     },
     "execution_count": 2,
     "metadata": {},
     "output_type": "execute_result"
    }
   ],
   "source": [
    "def ran(r):\n",
    "    \"\"\"\n",
    "    The function stores the squares in a value and reprint them by return\n",
    "    \"\"\"\n",
    "    l =[]\n",
    "    for i in range(r):\n",
    "        l.append(i**2)\n",
    "    return l\n",
    "\n",
    "ran(10)"
   ]
  },
  {
   "cell_type": "raw",
   "id": "c4c5696d",
   "metadata": {},
   "source": [
    "In the above case the values are initially stored in the list and are then reproduced hence consuming time and space memory wise.\n",
    "Generator come into work, when scenerio such as above occurs. We make use of Yield() to get the program going, as the values are generated as required."
   ]
  },
  {
   "cell_type": "code",
   "execution_count": 4,
   "id": "8d14dfea",
   "metadata": {},
   "outputs": [
    {
     "name": "stdout",
     "output_type": "stream",
     "text": [
      "0\n",
      "1\n",
      "4\n",
      "9\n",
      "16\n",
      "25\n",
      "36\n",
      "49\n",
      "64\n",
      "81\n"
     ]
    }
   ],
   "source": [
    "def ran(r):\n",
    "    for i in range(r):\n",
    "        yield(i**2)\n",
    "\n",
    "for i in ran(10):\n",
    "    print(i)"
   ]
  },
  {
   "cell_type": "code",
   "execution_count": 5,
   "id": "9191c95f",
   "metadata": {},
   "outputs": [
    {
     "name": "stdout",
     "output_type": "stream",
     "text": [
      "0\n",
      "1\n",
      "1\n",
      "2\n",
      "3\n",
      "5\n",
      "8\n",
      "13\n",
      "21\n",
      "34\n"
     ]
    }
   ],
   "source": [
    "#fibonacci\n",
    "\n",
    "def fibo(n):\n",
    "    a=0\n",
    "    b=1\n",
    "    for i in range(n):\n",
    "        yield(a)\n",
    "        a,b = b,a+b\n",
    "        \n",
    "for i in fibo(10):\n",
    "    print(i)"
   ]
  },
  {
   "cell_type": "code",
   "execution_count": null,
   "id": "4c1220e9",
   "metadata": {},
   "outputs": [],
   "source": []
  }
 ],
 "metadata": {
  "kernelspec": {
   "display_name": "Python 3 (ipykernel)",
   "language": "python",
   "name": "python3"
  },
  "language_info": {
   "codemirror_mode": {
    "name": "ipython",
    "version": 3
   },
   "file_extension": ".py",
   "mimetype": "text/x-python",
   "name": "python",
   "nbconvert_exporter": "python",
   "pygments_lexer": "ipython3",
   "version": "3.9.7"
  }
 },
 "nbformat": 4,
 "nbformat_minor": 5
}
